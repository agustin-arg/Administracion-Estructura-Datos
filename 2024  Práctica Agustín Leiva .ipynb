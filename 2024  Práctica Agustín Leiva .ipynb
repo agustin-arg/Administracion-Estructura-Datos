{
 "cells": [
  {
   "cell_type": "code",
   "execution_count": 11,
   "metadata": {},
   "outputs": [
    {
     "name": "stdout",
     "output_type": "stream",
     "text": [
      "La temperatura con ubicación baño, ID: 46220472, se encuentra a 24°C\n",
      "La luz en habitacion, ID: 662928, se encuentra encendido\n"
     ]
    }
   ],
   "source": [
    "from abc import ABC, abstractmethod\n",
    "\n",
    "class Dispositivos(ABC):\n",
    "    def __init__(self, id, ubicacion):\n",
    "        self.__idDispositivo = id\n",
    "        self.__ubicacion = ubicacion\n",
    "    \n",
    "    def get_idDispositivo(self):\n",
    "        return self.__idDispositivo\n",
    "    \n",
    "    def get_ubicacion(self):\n",
    "        return self.__ubicacion\n",
    "    \n",
    "    @abstractmethod\n",
    "    def estado(self):\n",
    "        pass\n",
    "\n",
    "class SensorTemperatura(Dispositivos):\n",
    "    def __init__(self, id, ubicacion, temperatura):\n",
    "        super().__init__(id, ubicacion)\n",
    "        self.__temperatura = temperatura\n",
    "    \n",
    "    def estado(self):\n",
    "        return f\"La temperatura con ubicación {self.get_ubicacion()}, ID: {self.get_idDispositivo()}, se encuentra a {self.__temperatura}°C\"\n",
    "\n",
    "class ActuadorLuz(Dispositivos):\n",
    "    def __init__(self, id, ubicacion, estadoLuz):\n",
    "        super().__init__(id, ubicacion)\n",
    "        self.__estadoLuz = estadoLuz\n",
    "    \n",
    "    def estado(self):\n",
    "        return f\"La luz en {self.get_ubicacion()}, ID: {self.get_idDispositivo()}, se encuentra {self.__estadoLuz}\"\n",
    "\n",
    "\n",
    "temperatura1 = SensorTemperatura(46220472, \"baño\", 24)\n",
    "print(temperatura1.estado())\n",
    "\n",
    "actuador1 = ActuadorLuz(662928, \"habitacion\", \"encendido\")\n",
    "print(actuador1.estado())"
   ]
  }
 ],
 "metadata": {
  "kernelspec": {
   "display_name": "Python 3",
   "language": "python",
   "name": "python3"
  },
  "language_info": {
   "codemirror_mode": {
    "name": "ipython",
    "version": 3
   },
   "file_extension": ".py",
   "mimetype": "text/x-python",
   "name": "python",
   "nbconvert_exporter": "python",
   "pygments_lexer": "ipython3",
   "version": "3.12.4"
  }
 },
 "nbformat": 4,
 "nbformat_minor": 2
}
