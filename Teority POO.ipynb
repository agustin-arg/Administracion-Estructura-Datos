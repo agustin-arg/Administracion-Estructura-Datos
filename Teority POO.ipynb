{
 "cells": [
  {
   "cell_type": "markdown",
   "metadata": {},
   "source": [
    "# Interfaces y Abstract Base Class (ABC)\n",
    "Piensa en el mando a distancia del televisor. Todos los mandos nos ofrecen el mismo interfaz con las mismas funcionalidades o métodos. En pseudocódigo se podría escribir su interfaz como:"
   ]
  },
  {
   "cell_type": "code",
   "execution_count": null,
   "metadata": {},
   "outputs": [],
   "source": [
    "# Pseudocódigo\n",
    "interface Mando{\n",
    "\tdef siguiente_canal():\n",
    "\tdef canal_anterior():\n",
    "\tdef subir_volumen():\n",
    "\tdef bajar_volumen():"
   ]
  },
  {
   "cell_type": "markdown",
   "metadata": {},
   "source": [
    "##### implementar un interfaz consiste en pasar del qué se hace al cómo se hace.\n",
    "Aunque lo veremos más adelante, ya podemos adelantar que Python no posee la keyword interface como otros lenguajes de programación. A pesar de esto, existen dos formas de definir interfaces en Python:\n",
    "\n",
    "Interfaces informales\n",
    "\n",
    "Interfaces formales"
   ]
  },
  {
   "cell_type": "markdown",
   "metadata": {},
   "source": [
    "## Interfaces informales\n",
    "Los interfaces informales pueden ser definidos con una simple clase que no implementa los métodos. Volviendo al ejemplo de nuestro interfaz mando a distancia, lo podríamos escribir en Python como:"
   ]
  },
  {
   "cell_type": "code",
   "execution_count": null,
   "metadata": {},
   "outputs": [],
   "source": [
    "class Mando:\n",
    "    def siguiente_canal(self):\n",
    "        pass\n",
    "    def canal_anterior(self):\n",
    "        pass\n",
    "    def subir_volumen(self):\n",
    "        pass\n",
    "    def bajar_volumen(self):\n",
    "        pass"
   ]
  },
  {
   "cell_type": "markdown",
   "metadata": {},
   "source": [
    "Una vez definido nuestro interfaz informal, podemos usarlo mediante herencia. Las clases MandoSamsung y MandoLG implementan el interfaz Mando con código particular en los métodos. Recuerda, pasamos del qué hace al cómo se hace."
   ]
  },
  {
   "cell_type": "code",
   "execution_count": null,
   "metadata": {},
   "outputs": [],
   "source": [
    "class MandoSamsung(Mando):\n",
    "    def siguiente_canal(self):\n",
    "        print(\"Samsung->Siguiente\")\n",
    "    def canal_anterior(self):\n",
    "        print(\"Samsung->Anterior\")\n",
    "    def subir_volumen(self):\n",
    "        print(\"Samsung->Subir\")\n",
    "    def bajar_volumen(self):\n",
    "        print(\"Samsung->Bajar\")\n",
    "\n",
    "#     Análogamente creamos MandoLG.\n",
    "class MandoLG(Mando):\n",
    "    def siguiente_canal(self):\n",
    "        print(\"LG->Siguiente\")\n",
    "    def canal_anterior(self):\n",
    "        print(\"LG->Anterior\")\n",
    "    def subir_volumen(self):\n",
    "        print(\"LG->Subir\")\n",
    "    def bajar_volumen(self):\n",
    "        print(\"LG->Bajar\")"
   ]
  },
  {
   "cell_type": "markdown",
   "metadata": {},
   "source": [
    "Al heredar de la clase Mando, no se obliga a MandoSamsung o MandoLG a implementar todos los métodos. Es decir, ambas clases podrían no tener código para todos los métodos, y esto es algo que puede causar problemas.... lo llamamos interfaz informal."
   ]
  },
  {
   "cell_type": "markdown",
   "metadata": {},
   "source": [
    "## **Interfaces formales**\n",
    "Los interfaces formales pueden ser definidos en Python utilizando el módulo por defecto llamado ABC (Abstract Base Classes)\n",
    "\n",
    "En Python, el módulo `abc` (Abstract Base Classes) se utiliza para definir **interfaces formales** y **clases abstractas**. Aquí te explico cómo funcionan el **metaclass=ABCMeta** y el **decorador @abstractmethod**:\n",
    "\n",
    "### **metaclass=ABCMeta**\n",
    "- **Definición**: `ABCMeta` es una metaclase proporcionada por el módulo `abc`.\n",
    "- **Función**: Permite crear clases abstractas que no pueden ser instanciadas directamente. Las clases que heredan de una clase con `ABCMeta` deben implementar todos los métodos abstractos definidos.\n",
    "\n",
    "### **@abstractmethod**\n",
    "- **Definición**: Es un decorador que se usa para declarar métodos abstractos dentro de una clase.\n",
    "- **Función**: Obliga a las subclases a implementar estos métodos. Si una subclase no implementa todos los métodos abstractos, no se puede instanciar.\n",
    "\n",
    "### **Uso Conjunto**\n",
    "- **Necesidad**: Para que el decorador `@abstractmethod` funcione correctamente, la clase debe usar `ABCMeta` como metaclase. Esto asegura que Python trate la clase como una clase abstracta y aplique las restricciones necesarias.\n",
    "\n",
    "### **Ejemplo**\n",
    "```python\n",
    "from abc import ABC, abstractmethod\n",
    "\n",
    "Es necesario  usar `metaclass=ABCMeta` junto con `@abstractmethod` para definir correctamente una clase abstracta en Python."
   ]
  },
  {
   "cell_type": "code",
   "execution_count": null,
   "metadata": {},
   "outputs": [],
   "source": [
    "from abc import abstractmethod\n",
    "from abc import ABCMeta\n",
    "\n",
    "class Mando(metaclass=ABCMeta):\n",
    "    @abstractmethod\n",
    "    def siguiente_canal(self):\n",
    "        pass\n",
    "\n",
    "    @abstractmethod\n",
    "    def canal_anterior(self):\n",
    "        pass\n",
    "\n",
    "    @abstractmethod\n",
    "    def subir_volumen(self):\n",
    "        pass\n",
    "\n",
    "    @abstractmethod\n",
    "    def bajar_volumen(self):\n",
    "        pass\n",
    "\n",
    "class MandoSamsung(Mando):\n",
    "    def siguiente_canal(self):\n",
    "        print(\"Samsung->Siguiente\")\n",
    "    def canal_anterior(self):\n",
    "        print(\"Samsung->Anterior\")\n",
    "    def subir_volumen(self):\n",
    "        print(\"Samsung->Subir\")\n",
    "    def bajar_volumen(self):\n",
    "        print(\"Samsung->Bajar\")\n",
    "        \n",
    "mando_samsung = MandoSamsung()\n",
    "mando_samsung.bajar_volumen()\n",
    "# Samsung->Bajar"
   ]
  },
  {
   "cell_type": "markdown",
   "metadata": {},
   "source": [
    "# Clase Abstracta vs Interfaz\n",
    "Aunque en ambos casos debes implementar todos los métodos abstractos en las subclases, hay diferencias clave entre clases abstractas e interfaces que afectan cómo y cuándo las usas.\n",
    "\n",
    "## Diferencias Clave ##\n",
    "### Propósito y Uso: ###\n",
    "Clase Abstracta: Se utiliza para crear una base común con implementación compartida. Puedes definir métodos concretos (con implementación) y métodos abstractos (sin implementación). Las subclases pueden reutilizar el código de los métodos concretos.\n",
    "\n",
    "\n",
    "Interfaz: Se utiliza para definir un contrato que las clases deben cumplir. Solo contiene métodos abstractos (sin implementación). Las clases que implementan la interfaz deben proporcionar su propia implementación para todos los métodos.\n",
    "\n",
    "\n",
    "### Herencia Múltiple: ### \n",
    "Clase Abstracta: En muchos lenguajes de programación, una clase solo puede heredar de una clase abstracta. En Python, puedes heredar de múltiples clases, pero esto puede complicar el diseño.\n",
    "\n",
    "\n",
    "Interfaz: Las clases pueden implementar múltiples interfaces, lo que permite una mayor flexibilidad en el diseño.\n",
    "### Métodos Concretos: ###\n",
    "Clase Abstracta: Puede contener métodos concretos que las subclases pueden heredar y reutilizar.\n",
    "Interfaz: No contiene métodos concretos; todas las implementaciones deben ser proporcionadas por las clases que implementan la interfaz."
   ]
  },
  {
   "cell_type": "markdown",
   "metadata": {},
   "source": []
  },
  {
   "cell_type": "code",
   "execution_count": null,
   "metadata": {},
   "outputs": [],
   "source": [
    "# Clase Abstracta:\n",
    "\n",
    "from abc import ABC, abstractmethod\n",
    "\n",
    "class Animal(ABC):\n",
    "    def __init__(self, nombre):\n",
    "        self.nombre = nombre\n",
    "\n",
    "    def dormir(self):\n",
    "        return f\"{self.nombre} está durmiendo\"\n",
    "\n",
    "    @abstractmethod\n",
    "    def hacer_sonido(self):\n",
    "        pass\n",
    "\n",
    "class Perro(Animal):\n",
    "    def hacer_sonido(self):\n",
    "        return \"Guau\"\n",
    "\n",
    "perro = Perro(\"Firulais\")\n",
    "print(perro.dormir())  # Salida: Firulais está durmiendo\n",
    "print(perro.hacer_sonido())  # Salida: Guau\n",
    "\n",
    "#Interfaz (simulada con clase abstracta):\n",
    "\n",
    "from abc import ABC, abstractmethod\n",
    "\n",
    "class Volador(ABC):\n",
    "    @abstractmethod\n",
    "    def volar(self):\n",
    "        pass\n",
    "\n",
    "class Pajaro(Volador):\n",
    "    def volar(self):\n",
    "        return \"El pájaro está volando\"\n",
    "\n",
    "class Avion(Volador):\n",
    "    def volar(self):\n",
    "        return \"El avión está volando\"\n",
    "\n",
    "pajaro = Pajaro()\n",
    "avion = Avion()\n",
    "\n",
    "print(pajaro.volar())  # Salida: El pájaro está volando\n",
    "print(avion.volar())   # Salida: El avión está volando"
   ]
  }
 ],
 "metadata": {
  "kernelspec": {
   "display_name": "Python 3",
   "language": "python",
   "name": "python3"
  },
  "language_info": {
   "codemirror_mode": {
    "name": "ipython",
    "version": 3
   },
   "file_extension": ".py",
   "mimetype": "text/x-python",
   "name": "python",
   "nbconvert_exporter": "python",
   "pygments_lexer": "ipython3",
   "version": "3.12.4"
  }
 },
 "nbformat": 4,
 "nbformat_minor": 2
}
