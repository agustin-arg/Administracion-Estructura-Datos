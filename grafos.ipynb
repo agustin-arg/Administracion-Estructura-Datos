{
 "cells": [
  {
   "cell_type": "markdown",
   "metadata": {
    "id": "bD9BJkZI0uGZ"
   },
   "source": [
    "@author: Octavio Gutiérrez de Código Máquina\n",
    "\n",
    "URL del canal: https://www.youtube.com/CodigoMaquina\n",
    "\n",
    "URL del video: https://youtu.be/HYGd2UMRb-o"
   ]
  },
  {
   "cell_type": "markdown",
   "metadata": {
    "id": "B_vsOWNaz2gE"
   },
   "source": [
    "# Creación de grafos y digrafos con NetworkX\n",
    "### Librerías"
   ]
  },
  {
   "cell_type": "code",
   "execution_count": 5,
   "metadata": {},
   "outputs": [
    {
     "name": "stdout",
     "output_type": "stream",
     "text": [
      "Requirement already satisfied: matplotlib in c:\\users\\agust\\appdata\\local\\programs\\python\\python312\\lib\\site-packages (3.9.2)Note: you may need to restart the kernel to use updated packages.\n",
      "\n",
      "Requirement already satisfied: contourpy>=1.0.1 in c:\\users\\agust\\appdata\\local\\programs\\python\\python312\\lib\\site-packages (from matplotlib) (1.3.0)\n",
      "Requirement already satisfied: cycler>=0.10 in c:\\users\\agust\\appdata\\local\\programs\\python\\python312\\lib\\site-packages (from matplotlib) (0.12.1)\n",
      "Requirement already satisfied: fonttools>=4.22.0 in c:\\users\\agust\\appdata\\local\\programs\\python\\python312\\lib\\site-packages (from matplotlib) (4.54.1)\n",
      "Requirement already satisfied: kiwisolver>=1.3.1 in c:\\users\\agust\\appdata\\local\\programs\\python\\python312\\lib\\site-packages (from matplotlib) (1.4.7)\n",
      "Requirement already satisfied: numpy>=1.23 in c:\\users\\agust\\appdata\\local\\programs\\python\\python312\\lib\\site-packages (from matplotlib) (2.1.1)\n",
      "Requirement already satisfied: packaging>=20.0 in c:\\users\\agust\\appdata\\roaming\\python\\python312\\site-packages (from matplotlib) (24.1)\n",
      "Requirement already satisfied: pillow>=8 in c:\\users\\agust\\appdata\\local\\programs\\python\\python312\\lib\\site-packages (from matplotlib) (10.4.0)\n",
      "Requirement already satisfied: pyparsing>=2.3.1 in c:\\users\\agust\\appdata\\local\\programs\\python\\python312\\lib\\site-packages (from matplotlib) (3.1.4)\n",
      "Requirement already satisfied: python-dateutil>=2.7 in c:\\users\\agust\\appdata\\roaming\\python\\python312\\site-packages (from matplotlib) (2.9.0.post0)\n",
      "Requirement already satisfied: six>=1.5 in c:\\users\\agust\\appdata\\roaming\\python\\python312\\site-packages (from python-dateutil>=2.7->matplotlib) (1.16.0)\n"
     ]
    },
    {
     "name": "stderr",
     "output_type": "stream",
     "text": [
      "\n",
      "[notice] A new release of pip is available: 24.0 -> 24.3.1\n",
      "[notice] To update, run: python.exe -m pip install --upgrade pip\n"
     ]
    },
    {
     "name": "stdout",
     "output_type": "stream",
     "text": [
      "Requirement already satisfied: networkx in c:\\users\\agust\\appdata\\local\\programs\\python\\python312\\lib\\site-packages (3.4.2)\n",
      "Note: you may need to restart the kernel to use updated packages.\n"
     ]
    },
    {
     "name": "stderr",
     "output_type": "stream",
     "text": [
      "\n",
      "[notice] A new release of pip is available: 24.0 -> 24.3.1\n",
      "[notice] To update, run: python.exe -m pip install --upgrade pip\n"
     ]
    }
   ],
   "source": [
    "%pip install matplotlib\n",
    "%pip install networkx"
   ]
  },
  {
   "cell_type": "code",
   "execution_count": 6,
   "metadata": {
    "id": "_Sz9snIpzAUA"
   },
   "outputs": [],
   "source": [
    "import networkx as nx\n",
    "import matplotlib.pyplot as plt"
   ]
  },
  {
   "cell_type": "markdown",
   "metadata": {
    "id": "eEKSDfSBz81V"
   },
   "source": [
    "# Grafos no dirigidos\n",
    "\n"
   ]
  },
  {
   "cell_type": "markdown",
   "metadata": {
    "id": "QwFjSYO28JTU"
   },
   "source": [
    "### Creación del grafo"
   ]
  },
  {
   "cell_type": "code",
   "execution_count": 7,
   "metadata": {
    "id": "PpPUq_7Pz2RI"
   },
   "outputs": [],
   "source": [
    "grafo = nx.Graph()\n",
    "\n",
    "# Agregando vértices/nodos\n",
    "grafo.add_nodes_from([\"maria\", \"luis\", \"claudia\", \"pedro\"])\n",
    "\n",
    "# Agregando aristas\n",
    "grafo.add_edge(\"maria\", \"luis\", weight=4)\n",
    "grafo.add_edge(\"maria\", \"claudia\", weight=10)\n",
    "grafo.add_edge(\"luis\", \"pedro\", weight=2)\n",
    "grafo.add_edge(\"pedro\", \"maria\", weight=3)"
   ]
  },
  {
   "cell_type": "markdown",
   "metadata": {
    "id": "Mz3zu4tn8k88"
   },
   "source": [
    "### Propiedades básicas"
   ]
  },
  {
   "cell_type": "code",
   "execution_count": 8,
   "metadata": {
    "colab": {
     "base_uri": "https://localhost:8080/"
    },
    "id": "hIujJXxx8k0t",
    "outputId": "827d329f-b2b4-4101-a788-bcc2cbc1f318"
   },
   "outputs": [
    {
     "name": "stdout",
     "output_type": "stream",
     "text": [
      "Número de vértices: 4\n",
      "Número de aristas: 4\n",
      "Vértices: ['maria', 'luis', 'claudia', 'pedro']\n",
      "Aristas: [('maria', 'luis'), ('maria', 'claudia'), ('maria', 'pedro'), ('luis', 'pedro')]\n"
     ]
    }
   ],
   "source": [
    "# Número de vértices y aristas\n",
    "print(\"Número de vértices:\", grafo.number_of_nodes())\n",
    "print(\"Número de aristas:\", grafo.number_of_edges())\n",
    "\n",
    "# Lista de vértices\n",
    "print(\"Vértices:\", grafo.nodes)\n",
    "\n",
    "# Lista de aristas\n",
    "print(\"Aristas:\", grafo.edges)"
   ]
  },
  {
   "cell_type": "markdown",
   "metadata": {
    "id": "EoVRsWPU7bgX"
   },
   "source": [
    "### Visualización del grafo no dirigido"
   ]
  },
  {
   "cell_type": "code",
   "execution_count": 9,
   "metadata": {
    "colab": {
     "base_uri": "https://localhost:8080/",
     "height": 337
    },
    "id": "2TBS_fdq7evE",
    "outputId": "2572bd56-9441-4ad3-bea2-7dbe01a39730"
   },
   "outputs": [
    {
     "data": {
      "image/png": "[encoded data removed]",
      "text/plain": [
       "<Figure size 300x300 with 1 Axes>"
      ]
     },
     "metadata": {},
     "output_type": "display_data"
    }
   ],
   "source": [
    "plt.figure(figsize=(3, 3))\n",
    "\n",
    "# Posiciona adecuadamente los vertices -> (x, y)\n",
    "posiciones = nx.spring_layout(grafo, seed=10)\n",
    "\n",
    "# Extrae los pesos de las aristas\n",
    "pesos = nx.get_edge_attributes(grafo, \"weight\")\n",
    "\n",
    "# Dibuja los vértices en las posiciones adecuadas\n",
    "nx.draw(grafo, posiciones, with_labels=True)\n",
    "\n",
    "# Dibuja las etiquetas de las aristas en las posiciones adecuadas\n",
    "nx.draw_networkx_edge_labels(grafo, posiciones, edge_labels=pesos)\n",
    "\n",
    "plt.show()"
   ]
  },
  {
   "cell_type": "markdown",
   "metadata": {
    "id": "dq3nNQgo851P"
   },
   "source": [
    "# Grafos dirigidos o Digrafos"
   ]
  },
  {
   "cell_type": "code",
   "execution_count": 10,
   "metadata": {
    "id": "2hxZspy_9d1T"
   },
   "outputs": [],
   "source": [
    "digrafo = nx.DiGraph()\n",
    "\n",
    "# Agregando vértices/nodos\n",
    "digrafo.add_nodes_from([\"maria\", \"luis\", \"claudia\", \"famos@\"])\n",
    "\n",
    "# Agregando aristas\n",
    "digrafo.add_edge(\"maria\", \"famos@\")\n",
    "digrafo.add_edge(\"luis\", \"famos@\")\n",
    "digrafo.add_edge(\"claudia\", \"famos@\")"
   ]
  },
  {
   "cell_type": "markdown",
   "metadata": {
    "id": "Pd0BjScsBCKQ"
   },
   "source": [
    "### Visualización del Digrafo"
   ]
  },
  {
   "cell_type": "code",
   "execution_count": 11,
   "metadata": {
    "colab": {
     "base_uri": "https://localhost:8080/",
     "height": 337
    },
    "id": "SbchruecA6Gf",
    "outputId": "b1d15ccb-c7a9-4f02-b74a-c32a518429cf"
   },
   "outputs": [
    {
     "data": {
      "image/png": "[encoded data removed]",
      "text/plain": [
       "<Figure size 300x300 with 1 Axes>"
      ]
     },
     "metadata": {},
     "output_type": "display_data"
    }
   ],
   "source": [
    "plt.figure(figsize=(3, 3))\n",
    "\n",
    "# Posiciona adecuadamente los vertices -> (x, y)\n",
    "posiciones = nx.spring_layout(digrafo, seed=1)\n",
    "\n",
    "# Dibuja los vértices en las posiciones adecuadas\n",
    "nx.draw(digrafo, posiciones, with_labels=True)\n",
    "\n",
    "plt.show()"
   ]
  }
 ],
 "metadata": {
  "colab": {
   "provenance": []
  },
  "kernelspec": {
   "display_name": "Python 3",
   "name": "python3"
  },
  "language_info": {
   "codemirror_mode": {
    "name": "ipython",
    "version": 3
   },
   "file_extension": ".py",
   "mimetype": "text/x-python",
   "name": "python",
   "nbconvert_exporter": "python",
   "pygments_lexer": "ipython3",
   "version": "3.12.4"
  }
 },
 "nbformat": 4,
 "nbformat_minor": 0
}
