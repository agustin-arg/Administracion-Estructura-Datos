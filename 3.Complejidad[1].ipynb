{
 "cells": [
  {
   "cell_type": "code",
   "execution_count": 1,
   "metadata": {},
   "outputs": [],
   "source": [
    "import big_o\n",
    "\n",
    "class MaxFinder:\n",
    "    def __init__(self):\n",
    "        self.mejor = None\n",
    "        self.otras_soluciones = None\n",
    "\n",
    "    def buscar_max(self, x):\n",
    "        max_val = 0\n",
    "        for nro in x:\n",
    "            if nro > max_val:\n",
    "                max_val = nro\n",
    "        return max_val\n",
    "\n",
    "    def generar_datos(self, n):\n",
    "        return big_o.datagen.integers(n, 0, 10000)\n",
    " \n",
    "    def calcular_complejidad(self, n_repeats=100):\n",
    "        self.mejor, self.otras_soluciones = big_o.big_o(self.buscar_max, self.generar_datos, n_repeats=n_repeats)\n",
    "\n",
    "    def mostrar_resultados(self):\n",
    "        print(self.mejor)\n",
    "        for tipo_tiempo, residuo in self.otras_soluciones.items():\n",
    "            print('{!s:<60s} (res: {:.2G})'.format(tipo_tiempo, residuo))\n"
   ]
  },
  {
   "cell_type": "code",
   "execution_count": 3,
   "metadata": {},
   "outputs": [
    {
     "name": "stdout",
     "output_type": "stream",
     "text": [
      "Linearithmic: time = 0.0019 + 1.9E-07*n*log(n) (sec)\n",
      "Constant: time = 0.11 (sec)                                  (res: 0.052)\n",
      "Linear: time = -0.0034 + 2.2E-06*n (sec)                     (res: 0.00073)\n",
      "Quadratic: time = 0.034 + 2.1E-11*n^2 (sec)                  (res: 0.0026)\n",
      "Cubic: time = 0.052 + 2.1E-16*n^3 (sec)                      (res: 0.007)\n",
      "Polynomial: time = 3.1E-06 * x^0.97 (sec)                    (res: 0.001)\n",
      "Logarithmic: time = -0.17 + 0.027*log(n) (sec)               (res: 0.024)\n",
      "Linearithmic: time = 0.0019 + 1.9E-07*n*log(n) (sec)         (res: 0.00057)\n",
      "Exponential: time = 0.0058 * 1^n (sec)                       (res: 0.12)\n"
     ]
    }
   ],
   "source": [
    "max_finder = MaxFinder()\n",
    "\n",
    "max_finder.calcular_complejidad()\n",
    "\n",
    "max_finder.mostrar_resultados()\n"
   ]
  },
  {
   "cell_type": "markdown",
   "metadata": {},
   "source": [
    "### Implemente el constructor de la clase Tiempo en Python. Agregue todas las comprobaciones de errores que crea necesarias.\n",
    "### Implemente dentro de la clase Tiempo la función “temporizador” que reciba valores de hora, minutos y segundos. El resultado de la función debe ser la hora a la que sonaría la alarma (hora actual del objeto más los valores ingresados por el usuario)\n",
    "### Construya un método que permita saber la diferencias de horas, minutos y segundos entre 2 objetos de la clase Tiempo."
   ]
  },
  {
   "cell_type": "code",
   "execution_count": null,
   "metadata": {},
   "outputs": [],
   "source": [
    "class Tiempo:\n",
    "    def __init__ (self, h, m, s):\n",
    "        self._hora = h\n",
    "        self._minuto = m\n",
    "        self._segundo = s\n",
    "    \n",
    "    def devolver_minutos( self):\n",
    "        return self._minuto\n",
    "    \n",
    "    def __sub__(self, other):\n",
    "        h = self._hora - other._hora\n",
    "        m = self._minutos - other._minutos\n",
    "        s = self._segundos - other._segundos\n",
    "        return Tiempo(h, m, s)\n",
    "\n",
    "class Progression:\n",
    "    def __init__ (self, start=0):\n",
    "        self._current = start\n",
    "\n",
    "    def next (self):\n",
    "        answer = self._current\n",
    "        self._advance()\n",
    "        return answer\n",
    "\n",
    "    def _advance( self):\n",
    "        self._current += 1\n",
    "\n",
    "    def get_progression( self, n):\n",
    "        answer = []\n",
    "        for i in range(n):\n",
    "            answer.append( self.next())\n",
    "        return answer\n",
    "    \n",
    "class ArithmeticProgression(Progression):\n",
    "    def __init__(self, increment=1, start=0):\n",
    "        super( ). __init__(start)\n",
    "        self._increment = increment\n",
    "\n",
    "    def _advance( self):\n",
    "        self._current += self._increment\n",
    "        \n",
    "class GeometricProgression(Progression):\n",
    "    def __init__ (self, base=1, start=1):\n",
    "        super(). __init__(start)\n",
    "        self._base = base\n",
    "    \n",
    "    def _advance( self):\n",
    "        self._current *= self._base\n"
   ]
  },
  {
   "cell_type": "code",
   "execution_count": null,
   "metadata": {},
   "outputs": [],
   "source": [
    "serie_generica = Progression()\n",
    "serie_aritmetica = ArithmeticProgression(4)\n",
    "serie_geometrica = GeometricProgression(4)\n",
    "\n",
    "print (serie_generica.get_progression(10))\n",
    "print (serie_aritmetica.get_progression(10))\n",
    "print (serie_geometrica.get_progression(10))"
   ]
  },
  {
   "cell_type": "markdown",
   "metadata": {},
   "source": [
    "### Incorpore una función a la clase Progression que devuelva el n-ésimo elemento de una progresión en lugar de la lista completa."
   ]
  },
  {
   "cell_type": "code",
   "execution_count": null,
   "metadata": {},
   "outputs": [],
   "source": []
  }
 ],
 "metadata": {
  "kernelspec": {
   "display_name": "Python 3",
   "language": "python",
   "name": "python3"
  },
  "language_info": {
   "codemirror_mode": {
    "name": "ipython",
    "version": 3
   },
   "file_extension": ".py",
   "mimetype": "text/x-python",
   "name": "python",
   "nbconvert_exporter": "python",
   "pygments_lexer": "ipython3",
   "version": "3.12.4"
  }
 },
 "nbformat": 4,
 "nbformat_minor": 2
}
