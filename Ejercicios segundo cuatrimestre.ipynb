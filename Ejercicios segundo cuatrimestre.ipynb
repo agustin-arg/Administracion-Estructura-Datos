{
 "cells": [
  {
   "cell_type": "code",
   "execution_count": null,
   "metadata": {},
   "outputs": [],
   "source": [
    "n = 4\n",
    "def recursividad (n): \n",
    "        if n == 1:\n",
    "            return 1\n",
    "        else:\n",
    "            return n + recursividad(n-1)\n",
    "\n",
    "print(recursividad(n))\n",
    "        "
   ]
  },
  {
   "cell_type": "code",
   "execution_count": null,
   "metadata": {},
   "outputs": [],
   "source": [
    "n = 4\n",
    "def recursividad (n): \n",
    "    lista=[]\n",
    "    if n == 1:\n",
    "        return 1\n",
    "    else:\n",
    "        return lista.append(recursividad(n-1))\n",
    "\n",
    "print(recursividad(n))"
   ]
  }
 ],
 "metadata": {
  "language_info": {
   "name": "python"
  }
 },
 "nbformat": 4,
 "nbformat_minor": 2
}
