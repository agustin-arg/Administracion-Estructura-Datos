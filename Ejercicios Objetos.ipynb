{
 "cells": [
  {
   "cell_type": "markdown",
   "metadata": {},
   "source": [
    "Ejercicio 1: Definicion de Clases y Objetos Enunciado: Crea una clase llamada Coche que tenga los siguientes atributos públicos: marca, modelo, y año. Luego, crea un objeto de la clase Coche y asigna valores a sus atributos. Finalmente, imprise en pantalla la información del coche en el formato: \"Marca: [ra], Modelo: [modelo], Αλο: [α]"
   ]
  },
  {
   "cell_type": "code",
   "execution_count": 7,
   "metadata": {},
   "outputs": [
    {
     "name": "stdout",
     "output_type": "stream",
     "text": [
      "marca: [renault], modelo:  [kwid], año:  [2018]\n"
     ]
    }
   ],
   "source": [
    "class coche:\n",
    "    def __init__(self, marca, modelo, año):\n",
    "        self.Marca = marca\n",
    "        self.Modelo = modelo\n",
    "        self.Año = año\n",
    "miCar = coche(\"renault\",\"kwid\",\"2018\")\n",
    "print (f\"marca: [{miCar.Marca}], modelo:  [{miCar.Modelo}], año:  [{miCar.Año}]\")\n",
    "        "
   ]
  },
  {
   "cell_type": "code",
   "execution_count": 2,
   "metadata": {},
   "outputs": [
    {
     "name": "stdout",
     "output_type": "stream",
     "text": [
      "marca: [renault], modelo: [kwid], año: [2018],\n"
     ]
    }
   ],
   "source": [
    "class coche:\n",
    "    def __init__(self, marca, modelo, año):\n",
    "        self.Marca = marca\n",
    "        self.Modelo = modelo\n",
    "        self.Año = año\n",
    "    def MostrarDatosCoche(self):\n",
    "        info = \"marca: [{0}], modelo: [{1}], año: [{2}],\".format(self.Marca, self.Modelo, self.Año)\n",
    "        return info #manera correcta de devolver el valor\n",
    "miCar = coche(\"renault\",\"kwid\",\"2018\")\n",
    "print (miCar.MostrarDatosCoche())\n",
    "        "
   ]
  },
  {
   "cell_type": "markdown",
   "metadata": {},
   "source": [
    "Ejercicio 2: Encapsulamiento Basico Punciado: Crea una clase llamada CuentaBancaria con un atributo privado saldo y un atributo publico titular. Define metodos depositar(cantidad) y retirar(cantidad) para modificar el saldo de la cuenta. También, crea un método mostrar_saldo() para que el titular pueda ver el saldo de su cuenta. Crea un objeto CuentaBancaria, realiza algunas operaciones de deposito y retiro, y muestra el saldo final."
   ]
  },
  {
   "cell_type": "code",
   "execution_count": 3,
   "metadata": {},
   "outputs": [
    {
     "ename": "TypeError",
     "evalue": "cuentaBancaria() takes no arguments",
     "output_type": "error",
     "traceback": [
      "\u001b[1;31m---------------------------------------------------------------------------\u001b[0m",
      "\u001b[1;31mTypeError\u001b[0m                                 Traceback (most recent call last)",
      "Cell \u001b[1;32mIn[3], line 20\u001b[0m\n\u001b[0;32m     18\u001b[0m titular \u001b[38;5;241m=\u001b[39m \u001b[38;5;28mint\u001b[39m(\u001b[38;5;28minput\u001b[39m(\u001b[38;5;124m\"\u001b[39m\u001b[38;5;124mIngrese el titular de la cuenta\u001b[39m\u001b[38;5;124m\"\u001b[39m))\n\u001b[0;32m     19\u001b[0m saldo \u001b[38;5;241m=\u001b[39m \u001b[38;5;28mint\u001b[39m(\u001b[38;5;28minput\u001b[39m(\u001b[38;5;124m\"\u001b[39m\u001b[38;5;124mIngrese el saldo del titular de la cuenta\u001b[39m\u001b[38;5;124m\"\u001b[39m))\n\u001b[1;32m---> 20\u001b[0m cuenta \u001b[38;5;241m=\u001b[39m \u001b[43mcuentaBancaria\u001b[49m\u001b[43m(\u001b[49m\u001b[43mtitular\u001b[49m\u001b[43m)\u001b[49m\n\u001b[0;32m     22\u001b[0m deposito \u001b[38;5;241m=\u001b[39m \u001b[38;5;28mint\u001b[39m(\u001b[38;5;28minput\u001b[39m(\u001b[38;5;124m\"\u001b[39m\u001b[38;5;124mIngrese el monto que quiera depositar\u001b[39m\u001b[38;5;124m\"\u001b[39m))\n\u001b[0;32m     23\u001b[0m retiro \u001b[38;5;241m=\u001b[39m \u001b[38;5;28mint\u001b[39m(\u001b[38;5;28minput\u001b[39m(\u001b[38;5;124m\"\u001b[39m\u001b[38;5;124mIngrese el monto que quiera retirar\u001b[39m\u001b[38;5;124m\"\u001b[39m))\n",
      "\u001b[1;31mTypeError\u001b[0m: cuentaBancaria() takes no arguments"
     ]
    }
   ],
   "source": [
    "class cuentaBancaria:\n",
    "    def __int__ (self, titular):\n",
    "        self.__Saldo = 0\n",
    "        self.Titular = titular\n",
    "    def depositar (self, deposito):\n",
    "        if deposito > 0:\n",
    "            self.__Saldo += deposito\n",
    "        else:\n",
    "            return \"El numero ingresado es negativo\"\n",
    "    def reitar (self, retiro):\n",
    "        if retiro <= self.__Saldo:\n",
    "            self.__Saldo -= retiro\n",
    "        else:\n",
    "            return \"El saldo es infuficiente para hacer ese retiro\"\n",
    "    def mostrarSaldo(self):\n",
    "        return \"El titular {0} cuenta con un saldo de ${1}\" .format(self.__Saldo, self.Titular)\n",
    "\n",
    "titular = int(input(\"Ingrese el titular de la cuenta\"))\n",
    "saldo = int(input(\"Ingrese el saldo del titular de la cuenta\"))\n",
    "cuenta = cuentaBancaria(titular)\n",
    "\n",
    "deposito = int(input(\"Ingrese el monto que quiera depositar\"))\n",
    "retiro = int(input(\"Ingrese el monto que quiera retirar\"))\n",
    "cuenta = cuentaBancaria()\n"
   ]
  },
  {
   "cell_type": "markdown",
   "metadata": {},
   "source": [
    "Ejercicio 3: Métodos Accesores (Getters y Setters) Enunciado: Define una clase Persona con un atributo privado edad. Crea métodos para acceder y modificar la edad (get_edad () y set_edad()). Asegúrate de que el método set_edad() solo acepte valores positivos. Crea una instancia de Persona, establece la edad utilizando el método adecuado y luego imprime la edad utilizando el metodo get_edad()."
   ]
  },
  {
   "cell_type": "code",
   "execution_count": null,
   "metadata": {},
   "outputs": [],
   "source": [
    "class persona:\n",
    "    def __init__(self, edad):\n",
    "        self.__Edad = edad\n",
    "    def getEdad(self):\n",
    "        return self.__Edad\n",
    "    def setEdad(self, nuevaEdad):\n",
    "        self.__Edad ==nuevaEdad\n",
    "\n",
    "\n",
    "        \n"
   ]
  },
  {
   "cell_type": "markdown",
   "metadata": {},
   "source": [
    "Ejercicio 4: Gestión de Productos\n",
    "\n",
    "Enunciado: Crea una clase llamada Producto que tenga los atributos públicos nombre y precio, y un atributo privado _descuento. Define un método aplicar_descuento (porcentaje) que permita aplicar un descuento al precio del producto. El método debe actualizar el valor de _ descuento y reducir el precio original. Crea un objeto de la clase Producto, establece el nombre y el precio, aplica un descuento, y muestra el precio final después del descuento."
   ]
  },
  {
   "cell_type": "code",
   "execution_count": 6,
   "metadata": {},
   "outputs": [
    {
     "name": "stdout",
     "output_type": "stream",
     "text": [
      "El prducto agu cuenta con un precio final de $100 y con un descuento de $0\n",
      "El prducto agu cuenta con un precio final de $90.0 y con un descuento de $10.0\n"
     ]
    }
   ],
   "source": [
    "class producto:\n",
    "    def __init__(self, nombre, precio,):\n",
    "        self.Precio = precio\n",
    "        self.Nombre = nombre\n",
    "        self.__Descuento = 0\n",
    "    def aplicarDescuento(self, porcentaje):\n",
    "        self.__Descuento = self.Precio * porcentaje/100\n",
    "        self.Precio = self.Precio - self.__Descuento\n",
    "    def getProducto(self):\n",
    "        return \"El prducto {0} cuenta con un precio final de ${1} y con un descuento de ${2}\" .format(self.Nombre, self.Precio, self.__Descuento)\n",
    "\n",
    "nombre = input(\"Ingrese el nombre del producto\")\n",
    "precio = int(input(\"Ingrese el precio del producto\"))\n",
    "\n",
    "Producto1 = producto(nombre,precio)\n",
    "print(Producto1.getProducto()) #IMPORTANTE LOS PARENTESIS PARA IMPRIMIR EL RETURN\n",
    "\n",
    "descuento = int(input(\"Ingrese el descuento del producto\"))\n",
    "Producto1.aplicarDescuento(descuento)\n",
    "print(Producto1.getProducto())\n",
    "\n",
    "\n",
    "    \n",
    "        "
   ]
  },
  {
   "cell_type": "markdown",
   "metadata": {},
   "source": [
    "Ejercicio 5: Contador de Objetos\n",
    "\n",
    "Enunciado: Crea una clase llamada Libro que tenga un atributo público titulo y un atributo privado _ autor. Además, incluye un atributo de clase llamado contador_libros que se incremente cada vez que se crea un nuevo objeto de la clase Libro. Crea varios objetos de la clase Libro y muestra el número total de libros creados utilizando el atributo contador_libros."
   ]
  },
  {
   "cell_type": "code",
   "execution_count": 3,
   "metadata": {},
   "outputs": [
    {
     "name": "stdout",
     "output_type": "stream",
     "text": [
      "Se crearon 3 objetos\n"
     ]
    }
   ],
   "source": [
    "class Libro:\n",
    "    contadorLibros = 0\n",
    "    def __init__(self,titutlo,autor):\n",
    "        self.Titulo = titutlo\n",
    "        self.__Autor = autor\n",
    "        Libro.contadorLibros +=1\n",
    "    def getAutor(self):\n",
    "        return self.__Autor\n",
    "    def getTitulo(self):\n",
    "        return self.Titulo\n",
    "    @classmethod\n",
    "    def getMostrarContador(cls):\n",
    "        return \"Se crearon {0} objetos\".format(cls.contadorLibros)\n",
    "    \n",
    "titulo = input(\"Ingrese el titulo del libro\")\n",
    "autor = input(\"Ingrese el autor del libro\")\n",
    "libro2 = Libro(titulo,autor)\n",
    "\n",
    "titulo = input(\"Ingrese el titulo del libro\")\n",
    "autor = input(\"Ingrese el autor del libro\")\n",
    "libro2 = Libro(titulo,autor)\n",
    "\n",
    "titulo = input(\"Ingrese el titulo del libro\")\n",
    "autor = input(\"Ingrese el autor del libro\")\n",
    "libro2 = Libro(titulo,autor)\n",
    "\n",
    "print(Libro.getMostrarContador())"
   ]
  },
  {
   "cell_type": "markdown",
   "metadata": {},
   "source": [
    "Ejercicio 6: Control de Inventario\n",
    "\n",
    "Enunciado: Define una clase Inventario que gestione una lista de productos. \n",
    "\n",
    "La clase debe tener un atributo privado _productos (una lista) \n",
    "\n",
    "y los métodos agregar_producto(nombre) y mostrar_productos() para agregar un producto y mostrar todos los productos en el inventario, respectivamente. \n",
    "\n",
    "Crea un objeto de la clase Inventario, agrega varios productos, y muestra la lista de productos almacenados."
   ]
  },
  {
   "cell_type": "code",
   "execution_count": 9,
   "metadata": {},
   "outputs": [
    {
     "name": "stdout",
     "output_type": "stream",
     "text": [
      "[]\n"
     ]
    }
   ],
   "source": [
    "class inventario:\n",
    "    def __init__(self,):\n",
    "        self.__Productos = []\n",
    "    def agregarProducto(self, nombre):\n",
    "        self.__Productos.append(nombre)\n",
    "    def mostrarProducto(self):\n",
    "        return self.__Productos\n",
    "\n",
    "lista1 = inventario()\n",
    "producto = None\n",
    "while (producto != \"parar\"):\n",
    "    producto = input(\"ingrese el nombre de producto\")\n",
    "    if (producto != \"parar\"):\n",
    "        lista1.agregarProducto(producto)\n",
    "\n",
    "print (lista1.mostrarProducto())"
   ]
  },
  {
   "cell_type": "markdown",
   "metadata": {},
   "source": [
    "Ejercicio 7: Gestión de Contactos\n",
    "\n",
    "Definir una clase Contactos que gestione una lista de contactos. La clase debe tener un atributo privado_contactos (una lista de diccionarios) y los métodos agregar_contacto (nombre, telefono) y mostrar_contactos() para agregar un contacto y mostrar todos los contactos en la lista, respectivamente.\n",
    "\n",
    "Crear un objeto de la clase Contactos, agrega varios contactos y muestra la lista de contactos almacenados."
   ]
  },
  {
   "cell_type": "code",
   "execution_count": 11,
   "metadata": {},
   "outputs": [
    {
     "name": "stdout",
     "output_type": "stream",
     "text": [
      "['leo', 12121, 'agu', 121212, 'javi', 1212121, 'lau', 2123131]\n"
     ]
    }
   ],
   "source": [
    "class ListaContactos:\n",
    "    def __init__(self):\n",
    "        self.__Contactos = []\n",
    "    def agregarContacto(self, nombre, telefeno):\n",
    "        self.__Contactos.append(nombre)\n",
    "        self.__Contactos.append(telefeno)\n",
    "    def getListaContactos(self):\n",
    "        return self.__Contactos\n",
    "    \n",
    "lista1 = ListaContactos()\n",
    "nombre = None\n",
    "telefono = None\n",
    "while (nombre != \"parar\"):\n",
    "    nombre = input(\"ingrese el nombre del contaco\")\n",
    "    if (nombre != \"parar\"):\n",
    "        telefono = int(input(\"ingrese el número del contacto\"))\n",
    "        lista1.agregarContacto(nombre, telefono)\n",
    "print (lista1.getListaContactos())"
   ]
  },
  {
   "cell_type": "markdown",
   "metadata": {},
   "source": [
    "Ejercicio 8: Registro de Estudiantes\n",
    "\n",
    "Definir una clase Registro Estudiantes que gestione una lista de estudiantes. La clase debe tener un atributo privado_estudiantes (una lista) y los métodos agregar_estudiante (nombre, edad) y mostrar_estudiantes() para agregar un estudiante y mostrar todos los estudiantes en la lista, respectivamente.\n",
    "\n",
    "Crear un objeto de la clase Registro Estudiantes, agrega varios estudiantes y muestra la lista de estudiantes almacenados."
   ]
  },
  {
   "cell_type": "code",
   "execution_count": 12,
   "metadata": {},
   "outputs": [
    {
     "name": "stdout",
     "output_type": "stream",
     "text": [
      "['leo', 12, 'javi', 45, 'agu', 19]\n"
     ]
    }
   ],
   "source": [
    "class RegistroEstudiantes:\n",
    "    def __init__(self):\n",
    "        self.Estudiantes = []\n",
    "    def agregarEstudiante(self, nombre, edad):\n",
    "        self.Estudiantes.append(nombre)\n",
    "        self.Estudiantes.append(edad)\n",
    "    def getRegistroEstudiantes(self):\n",
    "        return self.Estudiantes\n",
    "    \n",
    "lista1 = RegistroEstudiantes()\n",
    "nombre = None\n",
    "edad = None\n",
    "while (nombre != \"parar\"):\n",
    "    nombre = input(\"ingrese el nombre del alumno\")\n",
    "    if (nombre != \"parar\"):\n",
    "        edad = int(input(\"ingrese el edad del alumno\"))\n",
    "        lista1.agregarEstudiante(nombre, edad)\n",
    "print (lista1.getRegistroEstudiantes())\n",
    "        "
   ]
  },
  {
   "cell_type": "markdown",
   "metadata": {},
   "source": [
    "Ejercicio 9: Gestión de Libros\n",
    "\n",
    "Definir una clase Biblioteca que gestione una lista de libros. La clase debe tener un atributo privado _ libros (una lista de diccionarios) y los métodos agregar_libro(titulo, autor) y mostrar_libros() para agregar un libro y mostrar todos los libros en la lista, respectivamente.\n",
    "\n",
    "Crear un objeto de la clase Biblioteca, agrega varios libros y muestra la lista de libros almacenados."
   ]
  },
  {
   "cell_type": "code",
   "execution_count": 7,
   "metadata": {},
   "outputs": [
    {
     "name": "stdout",
     "output_type": "stream",
     "text": [
      "[{'Titulo': 'kl', 'Autor': 'lkj'}]\n"
     ]
    }
   ],
   "source": [
    "# class Biblioteca:\n",
    "#     def __init__(self):\n",
    "#         self.__diccionario = dict()\n",
    "#     def agregarLibro(self,tituto, autor):\n",
    "#         self.__diccionario[\"Titulo\"] = tituto\n",
    "#         self.__diccionario[\"Autor\"] = autor\n",
    "#     def mostarLibro(self):\n",
    "#         return self.__diccionario\n",
    "    \n",
    "# Biblio1 = Biblioteca()\n",
    "# titulo = input(\"Ingrese el titulo del libro\")\n",
    "# autor = input(\"Ingrese el autor del libro\")\n",
    "# Biblio1.agregarLibro(titulo, autor)\n",
    "# print (Biblio1.mostarLibro())\n",
    "\n",
    "\n",
    "\n",
    "class Biblioteca:\n",
    "    def __init__(self):\n",
    "        self.__libros = []\n",
    "\n",
    "    def agregar_libro(self, titulo, autor):\n",
    "        libro = {\"Titulo\": titulo, \"Autor\": autor}\n",
    "        self.__libros.append(libro)\n",
    "\n",
    "    def mostrar_libros(self):\n",
    "        return self.__libros\n",
    "\n",
    "# Crear un objeto de la clase Biblioteca\n",
    "Biblio1 = Biblioteca()\n",
    "\n",
    "# Pedir al usuario que ingrese el título y autor del libro\n",
    "titulo = input(\"Ingrese el titulo del libro: \")\n",
    "autor = input(\"Ingrese el autor del libro: \")\n",
    "\n",
    "# Agregar el libro a la biblioteca\n",
    "Biblio1.agregar_libro(titulo, autor)\n",
    "\n",
    "# Mostrar la lista de libros almacenados\n",
    "print(Biblio1.mostrar_libros())"
   ]
  },
  {
   "cell_type": "markdown",
   "metadata": {},
   "source": [
    "Ejercicio 10: Gestión de Empleados (Herencia y Métodos de Clase)\n",
    "Enunciado: Crea una clase base Empleado que tenga los atributos nombre, apellido y salario. Luego, define dos clases derivadas: Desarrollador y Gerente.\n",
    "\n",
    "La clase Desarrollador debe tener un método aumentar_salario que aumente el salario en un 10%.\n",
    "La clase Gerente debe tener un método aumentar_salario que aumente el salario en un 20%.\n",
    "Además, define un método de clase en Empleado que permita aumentar el salario de todos los empleados de una empresa en un cierto porcentaje.\n",
    "Objetivos:\n",
    "\n",
    "Implementar la herencia para especializar el comportamiento de las clases derivadas.\n",
    "Utilizar métodos de clase para realizar operaciones que afecten a todas las instancias de una clase."
   ]
  },
  {
   "cell_type": "code",
   "execution_count": null,
   "metadata": {},
   "outputs": [],
   "source": [
    "class Empleado:\n",
    "    def __init__(self, nombre, apellido, salario):\n",
    "        self.nombre = nombre\n",
    "        self.apellido = apellido\n",
    "        self.salario = salario\n",
    "    def aumentaSalario(self, aumento):\n",
    "        self.salario += (self.salario*aumento/100)\n",
    "    \n",
    "class Desarrolador(Empleado):\n",
    "    def aumentaSalario(self):\n",
    "        self.salario += (self.salario*10/100)\n",
    "    def mostarDatos(self):\n",
    "        return \"Nombre:{0}, Apellido{1}, Salario{2}\" .format(self.nombre, self.nombre, self.nombre)\n",
    "\n",
    "class Gerrente(Empleado):\n",
    "    def aumentaSalario(self):\n",
    "        self.salario += (self.salario*20/100)\n",
    "    def mostarDatos(self):\n",
    "        return \"Nombre:{0}, Apellido{1}, Salario{2}\" .format(self.nombre, self.nombre, self.nombre)\n",
    "\n",
    "\n",
    "\n",
    "aumentoGeneral = int(input(\"¿De cuanto es el aumento GEENRAL?: \"))\n",
    "Empleado.aumentaSalario (aumentoGeneral)\n",
    "\n",
    "nombreDesarrollador = input(\"Ingrese el nombre del desarrollador: \")\n",
    "apellidoDesarrollador= input(\"Ingrese el apellido del desarrollador: \")\n",
    "salario = int(input(\"Ingrese el salario del desarrollador: \"))\n",
    "\n",
    "Desarrolador(nombreDesarrollador, apellidoDesarrollador, salario)\n",
    "aumentoDesarrolador = int(input(\"¿Deseas dar aumento al Desarrolador?: \"))\n",
    "if aumentoDesarrolador is True:\n",
    "    Desarrolador.aumentaSalario()\n",
    "    \n",
    "print (Desarrolador.mostarDatos)\n",
    "\n",
    "nombreDesarrollador = input(\"Ingrese el nombre del desarrollador: \")\n",
    "apellidoDesarrollador= input(\"Ingrese el apellido del desarrollador: \")\n",
    "salario = int(input(\"Ingrese el salario del desarrollador: \"))\n",
    "\n",
    "Desarrolador(nombreDesarrollador, apellidoDesarrollador, salario)\n",
    "aumentoDesarrolador = int(input(\"¿Deseas dar aumento al Desarrolador?: \"))\n",
    "if aumentoDesarrolador is True:\n",
    "    Desarrolador.aumentaSalario()\n",
    "    \n",
    "print (Desarrolador.mostarDatos)\n",
    "\n",
    "\n",
    "    \n"
   ]
  },
  {
   "cell_type": "markdown",
   "metadata": {},
   "source": [
    "Ejercicio 11: Gestión de Vehículos (Polimorfismo y Composición)\n",
    "Enunciado: Crea una clase Vehiculo que contenga un método mover. Luego, crea dos clases derivadas, Coche y Bicicleta, que implementen el método mover de manera diferente.\n",
    "\n",
    "La clase Coche debe moverse indicando \"El coche se mueve sobre ruedas\".\n",
    "La clase Bicicleta debe moverse indicando \"La bicicleta se mueve con pedales\".\n",
    "Implementa una clase Garaje que permita almacenar diferentes tipos de vehículos y los haga moverse a todos.\n",
    "Objetivos:\n",
    "\n",
    "Utilizar el polimorfismo para implementar diferentes comportamientos del método mover.\n",
    "Aplicar la composición para crear una clase que gestione objetos de otras clases."
   ]
  },
  {
   "cell_type": "code",
   "execution_count": 15,
   "metadata": {},
   "outputs": [
    {
     "name": "stdout",
     "output_type": "stream",
     "text": [
      "El coche se mueve sobre ruedas\n",
      "El coche se mueve con pedales\n"
     ]
    }
   ],
   "source": [
    "class Vehiculo:\n",
    "    def moverVehiculo(self):\n",
    "        pass\n",
    "    \n",
    "class Coche(Vehiculo):\n",
    "    def moverVehiculo(self):\n",
    "        return \"El coche se mueve sobre ruedas\"\n",
    "    \n",
    "class Bicicleta(Vehiculo):\n",
    "    def moverVehiculo(self):\n",
    "        return \"El coche se mueve con pedales\"\n",
    "    \n",
    "class Garaje:\n",
    "    def __init__(self):\n",
    "        self.vehiculos = []\n",
    "    def MoverVehiculo(self, vehiculo):\n",
    "        self.vehiculos.append(vehiculo)\n",
    "        return vehiculo.moverVehiculo()\n",
    "\n",
    "garaje = Garaje()\n",
    "coche = Coche()\n",
    "bicicleta = Bicicleta()\n",
    "\n",
    "print (garaje.MoverVehiculo(coche))\n",
    "print (garaje.MoverVehiculo(bicicleta))\n"
   ]
  },
  {
   "cell_type": "markdown",
   "metadata": {},
   "source": [
    "Ejercicio 12: Biblioteca (Encapsulamiento y Métodos Especiales)\n",
    "Enunciado: Crea una clase Libro que tenga los atributos privados __titulo, __autor, y __disponible.\n",
    "\n",
    "Implementa métodos prestar y devolver para cambiar el estado de disponibilidad del libro.\n",
    "Define el método especial __str__ para que al imprimir un libro se muestre su título, autor, y si está disponible o no.\n",
    "Crea una clase Biblioteca que contenga una lista de libros y permita agregar, prestar, y devolver libros, utilizando los métodos definidos.\n",
    "Objetivos:\n",
    "\n",
    "Implementar el encapsulamiento para proteger los atributos.\n",
    "Definir y usar métodos especiales para mejorar la legibilidad y usabilidad de la clase."
   ]
  },
  {
   "cell_type": "code",
   "execution_count": 16,
   "metadata": {},
   "outputs": [
    {
     "ename": "AttributeError",
     "evalue": "'Libro' object has no attribute '_Libro__disponible'",
     "output_type": "error",
     "traceback": [
      "\u001b[1;31m---------------------------------------------------------------------------\u001b[0m",
      "\u001b[1;31mAttributeError\u001b[0m                            Traceback (most recent call last)",
      "Cell \u001b[1;32mIn[16], line 38\u001b[0m\n\u001b[0;32m     35\u001b[0m libro1 \u001b[38;5;241m=\u001b[39m Libro()\n\u001b[0;32m     36\u001b[0m libro2 \u001b[38;5;241m=\u001b[39m Libro()\n\u001b[1;32m---> 38\u001b[0m \u001b[43mbiblioteca\u001b[49m\u001b[38;5;241;43m.\u001b[39;49m\u001b[43magregar_libro\u001b[49m\u001b[43m(\u001b[49m\u001b[43mlibro1\u001b[49m\u001b[43m)\u001b[49m\n\u001b[0;32m     39\u001b[0m biblioteca\u001b[38;5;241m.\u001b[39magregar_libro(libro2)\n\u001b[0;32m     41\u001b[0m \u001b[38;5;28mprint\u001b[39m(biblioteca)\n",
      "Cell \u001b[1;32mIn[16], line 27\u001b[0m, in \u001b[0;36mBiblioteca.agregar_libro\u001b[1;34m(self, libro)\u001b[0m\n\u001b[0;32m     25\u001b[0m \u001b[38;5;28;01mdef\u001b[39;00m \u001b[38;5;21magregar_libro\u001b[39m(\u001b[38;5;28mself\u001b[39m, libro):\n\u001b[0;32m     26\u001b[0m     \u001b[38;5;28mself\u001b[39m\u001b[38;5;241m.\u001b[39m__lista\u001b[38;5;241m.\u001b[39mappend(libro)\n\u001b[1;32m---> 27\u001b[0m     \u001b[43mLibro\u001b[49m\u001b[38;5;241;43m.\u001b[39;49m\u001b[43mprestar\u001b[49m\u001b[43m(\u001b[49m\u001b[43mlibro\u001b[49m\u001b[43m)\u001b[49m\n",
      "Cell \u001b[1;32mIn[16], line 9\u001b[0m, in \u001b[0;36mLibro.prestar\u001b[1;34m(self)\u001b[0m\n\u001b[0;32m      8\u001b[0m \u001b[38;5;28;01mdef\u001b[39;00m \u001b[38;5;21mprestar\u001b[39m(\u001b[38;5;28mself\u001b[39m):\n\u001b[1;32m----> 9\u001b[0m     \u001b[38;5;28;01mif\u001b[39;00m \u001b[38;5;28;43mself\u001b[39;49m\u001b[38;5;241;43m.\u001b[39;49m\u001b[43m__disponible\u001b[49m \u001b[38;5;129;01mis\u001b[39;00m \u001b[38;5;28;01mTrue\u001b[39;00m:\n\u001b[0;32m     10\u001b[0m         \u001b[38;5;28;01mreturn\u001b[39;00m \u001b[38;5;124m\"\u001b[39m\u001b[38;5;124mse encuntra disponible\u001b[39m\u001b[38;5;124m\"\u001b[39m\n\u001b[0;32m     11\u001b[0m         \u001b[38;5;28mself\u001b[39m\u001b[38;5;241m.\u001b[39m__disponible \u001b[38;5;241m=\u001b[39m \u001b[38;5;28;01mFalse\u001b[39;00m\n",
      "\u001b[1;31mAttributeError\u001b[0m: 'Libro' object has no attribute '_Libro__disponible'"
     ]
    }
   ],
   "source": [
    "class Libro:\n",
    "    def __init__ (self):\n",
    "        self.__titulo: None\n",
    "        self.__autor: None\n",
    "        self.__disponible: None\n",
    "    \n",
    "        \n",
    "    def prestar(self):\n",
    "        if self.__disponible is True:\n",
    "            return \"se encuntra disponible\"\n",
    "            self.__disponible = False\n",
    "        else:\n",
    "            return \"no se encuntra disponible\"\n",
    "    \n",
    "    def devolver (self):\n",
    "        self.__disponible = True\n",
    "    \n",
    "    def __str__(self):\n",
    "        return \"El libro {sel.__titulo} de {sel.__autor} {self.__disponible} \"\n",
    "    \n",
    "class Biblioteca:\n",
    "    def __init__(self):\n",
    "        self.__lista = []\n",
    "    \n",
    "    def agregar_libro(self, libro):\n",
    "        self.__lista.append(libro)\n",
    "        Libro.prestar(libro)\n",
    "\n",
    "    def devolver_libro(self, titulo):\n",
    "        Libro.devolver(titulo)\n",
    "    def __str__(self):\n",
    "        return \"\\n\".join(str(libro) for libro in self.libros)\n",
    "    \n",
    "biblioteca = Biblioteca()\n",
    "libro1 = Libro()\n",
    "libro2 = Libro()\n",
    "\n",
    "biblioteca.agregar_libro(libro1)\n",
    "biblioteca.agregar_libro(libro2)\n",
    "\n",
    "print(biblioteca)\n",
    "print(biblioteca.prestar_libro(\"1984\"))\n",
    "print(biblioteca)\n",
    "print(biblioteca.devolver_libro(\"1984\"))\n",
    "print(biblioteca)\n",
    "    "
   ]
  },
  {
   "cell_type": "code",
   "execution_count": 2,
   "metadata": {},
   "outputs": [
    {
     "name": "stdout",
     "output_type": "stream",
     "text": [
      "'1984' por George Orwell está disponible\n",
      "'Cien años de soledad' por Gabriel García Márquez está disponible\n",
      "Has prestado '1984'\n",
      "'1984' por George Orwell está no disponible\n",
      "'Cien años de soledad' por Gabriel García Márquez está disponible\n",
      "Has devuelto '1984'\n",
      "'1984' por George Orwell está disponible\n",
      "'Cien años de soledad' por Gabriel García Márquez está disponible\n"
     ]
    }
   ],
   "source": [
    "class Libro:\n",
    "    def __init__(self, titulo, autor):\n",
    "        self.__titulo = titulo\n",
    "        self.__autor = autor\n",
    "        self.__disponible = True\n",
    "\n",
    "    def prestar(self):\n",
    "        if self.__disponible:\n",
    "            self.__disponible = False\n",
    "            return True\n",
    "        return False\n",
    "\n",
    "    def devolver(self):\n",
    "        if not self.__disponible:\n",
    "            self.__disponible = True\n",
    "            return True\n",
    "        return False\n",
    "\n",
    "    def __str__(self):\n",
    "        estado = \"disponible\" if self.__disponible else \"no disponible\"\n",
    "        return f\"'{self.__titulo}' por {self.__autor} está {estado}\"\n",
    "\n",
    "class Biblioteca:\n",
    "    def __init__(self):\n",
    "        self.libros = []\n",
    "\n",
    "    def agregar_libro(self, libro):\n",
    "        self.libros.append(libro)\n",
    "\n",
    "    def prestar_libro(self, titulo):\n",
    "        for libro in self.libros:\n",
    "            if libro._Libro__titulo == titulo and libro.prestar():\n",
    "                return f\"Has prestado '{titulo}'\"\n",
    "        return f\"El libro '{titulo}' no está disponible o no existe en la biblioteca.\"\n",
    "\n",
    "    def devolver_libro(self, titulo):\n",
    "        for libro in self.libros:\n",
    "            if libro._Libro__titulo == titulo and libro.devolver():\n",
    "                return f\"Has devuelto '{titulo}'\"\n",
    "        return f\"El libro '{titulo}' no se puede devolver porque no fue prestado o no existe en la biblioteca.\"\n",
    "\n",
    "    def __str__(self):\n",
    "        return \"\\n\".join(str(libro) for libro in self.libros)\n",
    "\n",
    "# Ejemplo de uso\n",
    "biblioteca = Biblioteca()\n",
    "libro1 = Libro(\"1984\", \"George Orwell\")\n",
    "libro2 = Libro(\"Cien años de soledad\", \"Gabriel García Márquez\")\n",
    "\n",
    "biblioteca.agregar_libro(libro1)\n",
    "biblioteca.agregar_libro(libro2)\n",
    "\n",
    "print(biblioteca)\n",
    "print(biblioteca.prestar_libro(\"1984\"))\n",
    "print(biblioteca)\n",
    "print(biblioteca.devolver_libro(\"1984\"))\n",
    "print(biblioteca)\n"
   ]
  },
  {
   "cell_type": "markdown",
   "metadata": {},
   "source": [
    "Ejercicio 13: \n",
    "Define una clase abstracta Animal que tenga dos métodos abstractos: sonido() y movimiento(). \n",
    "Luego, crea al menos dos subclases (por ejemplo, Perro y Gato) que implementen estos métodos."
   ]
  },
  {
   "cell_type": "code",
   "execution_count": 18,
   "metadata": {},
   "outputs": [
    {
     "name": "stdout",
     "output_type": "stream",
     "text": [
      "El perro hace: guau y le gusta saltar.\n",
      "El gato hace: miau y le gusta agachar.\n"
     ]
    }
   ],
   "source": [
    "from abc import abstractmethod\n",
    "from abc import ABCMeta\n",
    "\n",
    "class Animal(metaclass=ABCMeta):\n",
    "    @abstractmethod\n",
    "    def sonido(self):\n",
    "        pass\n",
    "\n",
    "    @abstractmethod\n",
    "    def movimiento(self):\n",
    "        pass\n",
    "\n",
    "class Perro(Animal):\n",
    "    def sonido(self):\n",
    "        return \"guau\"\n",
    "\n",
    "    def movimiento(self):\n",
    "        return \"saltar\"\n",
    "\n",
    "class Gato(Animal):\n",
    "    def sonido(self):\n",
    "        return \"miau\"\n",
    "\n",
    "    def movimiento(self):\n",
    "        return \"agachar\"\n",
    "    \n",
    "    \n",
    "mi_perro = Perro()\n",
    "mi_gato = Gato()\n",
    "\n",
    "print(f\"El perro hace: {mi_perro.sonido()} y le gusta {mi_perro.movimiento()}.\")\n",
    "print(f\"El gato hace: {mi_gato.sonido()} y le gusta {mi_gato.movimiento()}.\")\n"
   ]
  },
  {
   "cell_type": "markdown",
   "metadata": {},
   "source": [
    "Ejercicio 14: Define una interfaz Vehiculo que contenga los métodos acelerar() y frenar(). Luego, crea al menos dos clases (por ejemplo, Auto y Bicicleta) que implementen esta interfaz, proporcionando una implementación concreta para cada método."
   ]
  },
  {
   "cell_type": "code",
   "execution_count": 3,
   "metadata": {},
   "outputs": [
    {
     "name": "stdout",
     "output_type": "stream",
     "text": [
      "El auto está acelerando.\n",
      "El auto está frenando.\n",
      "La bicicleta está acelerando.\n",
      "La bicicleta está frenando.\n"
     ]
    }
   ],
   "source": [
    "from abc import ABC, abstractmethod\n",
    "\n",
    "class Vehiculo(ABC):\n",
    "    @abstractmethod\n",
    "    def acelerar(self):\n",
    "        pass\n",
    "\n",
    "    @abstractmethod\n",
    "    def frenar(self):\n",
    "        pass\n",
    "\n",
    "class Auto(Vehiculo):\n",
    "    def acelerar(self):\n",
    "        return (\"El auto está acelerando.\")\n",
    "\n",
    "    def frenar(self):\n",
    "        return (\"El auto está frenando.\")\n",
    "\n",
    "class Bicicleta(Vehiculo):\n",
    "    def acelerar(self):\n",
    "        return (\"La bicicleta está acelerando.\")\n",
    "\n",
    "    def frenar(self):\n",
    "        return (\"La bicicleta está frenando.\")\n",
    "\n",
    "auto = Auto()\n",
    "bicicleta = Bicicleta()\n",
    "\n",
    "print(auto.acelerar())\n",
    "print(auto.frenar())\n",
    "\n",
    "print(bicicleta.acelerar())\n",
    "print(bicicleta.frenar())"
   ]
  },
  {
   "cell_type": "markdown",
   "metadata": {},
   "source": [
    "Ejercicio 15: Implementa una clase Calculadora que delegue la operación de sumar, restar, multiplicar y dividir a una clase OperacionesMatematicas. \n",
    "La clase Calculadora debe contener métodos para realizar estas operaciones, pero las implementaciones deben delegarse al objeto OperacionesMatematicas."
   ]
  },
  {
   "cell_type": "code",
   "execution_count": 4,
   "metadata": {},
   "outputs": [
    {
     "name": "stdout",
     "output_type": "stream",
     "text": [
      "15\n",
      "5\n",
      "50\n",
      "2.0\n"
     ]
    }
   ],
   "source": [
    "class OperacionesMatematicas:\n",
    "    def sumar(self, a, b):\n",
    "        return a + b\n",
    "\n",
    "    def restar(self, a, b):\n",
    "        return a - b\n",
    "\n",
    "    def multiplicar(self, a, b):\n",
    "        return a * b\n",
    "\n",
    "    def dividir(self, a, b):\n",
    "        return a / b\n",
    "\n",
    "class Calculadora:\n",
    "    def __init__(self):\n",
    "        self.operaciones = OperacionesMatematicas()\n",
    "\n",
    "    def sumar(self, a, b):\n",
    "        return self.operaciones.sumar(a, b)\n",
    "\n",
    "    def restar(self, a, b):\n",
    "        return self.operaciones.restar(a, b)\n",
    "\n",
    "    def multiplicar(self, a, b):\n",
    "        return self.operaciones.multiplicar(a, b)\n",
    "\n",
    "    def dividir(self, a, b):\n",
    "        return self.operaciones.dividir(a, b)\n",
    "\n",
    "calculadora = Calculadora()\n",
    "\n",
    "print(calculadora.sumar(10, 5))        \n",
    "print(calculadora.restar(10, 5))       \n",
    "print(calculadora.multiplicar(10, 5))  \n",
    "print(calculadora.dividir(10, 5))      "
   ]
  },
  {
   "cell_type": "markdown",
   "metadata": {},
   "source": [
    "Ejercicio 16: Implementa una clase Calculadora con métodos estáticos para sumar, restar, multiplicar y dividir dos números. \n",
    "Asegúrate de que estos métodos puedan ser llamados directamente desde la clase sin necesidad de crear una instancia."
   ]
  },
  {
   "cell_type": "code",
   "execution_count": 5,
   "metadata": {},
   "outputs": [
    {
     "name": "stdout",
     "output_type": "stream",
     "text": [
      "15\n",
      "5\n",
      "50\n",
      "2.0\n"
     ]
    }
   ],
   "source": [
    "class Calculadora:\n",
    "    @classmethod\n",
    "    def sumar(self, a, b):\n",
    "        return a + b\n",
    "    @classmethod\n",
    "    def restar(self, a, b):\n",
    "        return a - b\n",
    "    @classmethod\n",
    "    def multiplicar(self, a, b):\n",
    "        return a * b\n",
    "    @classmethod\n",
    "    def dividir(self, a, b):\n",
    "        return a / b\n",
    "\n",
    "print(calculadora.sumar(10, 5))        \n",
    "print(calculadora.restar(10, 5))       \n",
    "print(calculadora.multiplicar(10, 5))  \n",
    "print(calculadora.dividir(10, 5))   "
   ]
  },
  {
   "cell_type": "markdown",
   "metadata": {},
   "source": [
    "Ejercicio 17: Vehículos Abstractos\n",
    "\n",
    "Define una clase abstracta Vehiculo que tenga un método abstracto moverse. Luego, crea dos subclases, Auto y Bicicleta, que implementen el método moverse de formas distintas. Crea instancias de ambas clases y llama al método moverse.\n"
   ]
  },
  {
   "cell_type": "code",
   "execution_count": 6,
   "metadata": {},
   "outputs": [
    {
     "name": "stdout",
     "output_type": "stream",
     "text": [
      "El auto está volando.\n",
      "La bicicleta está cabando.\n"
     ]
    }
   ],
   "source": [
    "from abc import ABC, abstractmethod\n",
    "\n",
    "class Vehiculo(ABC):\n",
    "    @abstractmethod\n",
    "    def moverse(self):\n",
    "        pass\n",
    "\n",
    "\n",
    "class Auto(Vehiculo):\n",
    "    def moverse(self):\n",
    "        return (\"El auto comenzo a volar.\")\n",
    "\n",
    "class Bicicleta(Vehiculo):\n",
    "    def moverse(self):\n",
    "        return (\"La bicicleta comenzo a girar.\")\n",
    "    \n",
    "auto = Auto()\n",
    "bicicleta = Bicicleta()\n",
    "\n",
    "print(auto.moverse())\n",
    "print(bicicleta.moverse())"
   ]
  },
  {
   "cell_type": "markdown",
   "metadata": {},
   "source": [
    "Ejercicio 18: Instrumentos Musicales\n",
    "\n",
    "Crea una clase abstracta Instrumento con un método abstracto tocar. Luego, crea subclases como Guitarra y Piano que implementen el método tocar. Instancia los objetos y llama al método tocar.\n"
   ]
  },
  {
   "cell_type": "code",
   "execution_count": 7,
   "metadata": {},
   "outputs": [
    {
     "name": "stdout",
     "output_type": "stream",
     "text": [
      "Musica de guitarra.\n",
      "Musica de piano.\n"
     ]
    }
   ],
   "source": [
    "from abc import ABC, abstractmethod\n",
    "\n",
    "class Instrumento(ABC):\n",
    "    @abstractmethod\n",
    "    def tocar(self):\n",
    "        pass\n",
    "\n",
    "class Guitarra(Instrumento):\n",
    "    def tocar(self):\n",
    "        return (\"Musica de guitarra.\")\n",
    "\n",
    "class Piano(Instrumento):\n",
    "    def tocar(self):\n",
    "        return(\"Musica de piano.\")\n",
    "\n",
    "guitarra = Guitarra()\n",
    "piano = Piano()\n",
    "\n",
    "print(guitarra.tocar() ) \n",
    "print(piano.tocar() )    \n"
   ]
  },
  {
   "cell_type": "markdown",
   "metadata": {},
   "source": [
    "Ejercicio 19: Dispositivos\n",
    "\n",
    "Crea una interfaz Encendible que contenga el método encender(). Luego, crea dos clases Television y Lampara, que implementen la interfaz y describan cómo se encienden estos dispositivos.\n",
    "\n"
   ]
  },
  {
   "cell_type": "code",
   "execution_count": 1,
   "metadata": {},
   "outputs": [
    {
     "name": "stdout",
     "output_type": "stream",
     "text": [
      "La televisión se está encendiendo y se ve estatica.\n",
      "La lámpara se está encendiend pero no hay foco colocado por lo que no desprende luz.\n"
     ]
    }
   ],
   "source": [
    "from abc import ABC, abstractmethod\n",
    "\n",
    "class Encendible(ABC):\n",
    "    @abstractmethod\n",
    "    def encender(self):\n",
    "        pass\n",
    "\n",
    "class Television(Encendible):\n",
    "    def encender(self):\n",
    "        return (\"La televisión se está encendiendo y se ve estatica.\")\n",
    "\n",
    "class Lampara(Encendible):\n",
    "    def encender(self):\n",
    "        return (\"La lámpara se está encendiend pero no hay foco colocado por lo que no desprende luz.\")\n",
    "\n",
    "\n",
    "television = Television()\n",
    "lampara = Lampara()\n",
    "\n",
    "print(television.encender() )\n",
    "print(lampara.encender()    ) \n"
   ]
  },
  {
   "cell_type": "markdown",
   "metadata": {},
   "source": [
    "Ejercicio 20: Dispositivos de Audio\n",
    "\n",
    "Crea una interfaz ControlDeVolumen con los métodos subir_volumen y bajar_volumen. Luego, crea las clases Radio y Altavoz que implementen esta interfaz.\n"
   ]
  },
  {
   "cell_type": "code",
   "execution_count": 13,
   "metadata": {},
   "outputs": [
    {
     "name": "stdout",
     "output_type": "stream",
     "text": [
      "El voluemen de la radio bajo El voluemen de la radio subio\n",
      "El voluemen del altavoz bajo El voluemen del altavoz subio\n"
     ]
    }
   ],
   "source": [
    "from abc import ABC, abstractmethod\n",
    "\n",
    "class ControlDeVolumen(ABC):\n",
    "    @abstractmethod\n",
    "    def subirvolumen(self):\n",
    "        pass\n",
    "    @abstractmethod\n",
    "    def bajarvolumen(self):\n",
    "        pass\n",
    "    \n",
    "class Radio(ControlDeVolumen):\n",
    "    def subirvolumen(self):\n",
    "        return \"El voluemen de la radio bajo\"\n",
    "    def bajarvolumen(self):\n",
    "        return \"El voluemen de la radio subio\"\n",
    "    \n",
    "class Altavoz(ControlDeVolumen):\n",
    "    def subirvolumen(self):\n",
    "        return \"El voluemen del altavoz bajo\"\n",
    "    def bajarvolumen(self):\n",
    "        return \"El voluemen del altavoz subio\"\n",
    "    \n",
    "radio = Radio()\n",
    "altavoz = Altavoz()\n",
    "\n",
    "print(radio.subirvolumen(), radio.bajarvolumen())\n",
    "print(altavoz.subirvolumen(), altavoz.bajarvolumen())"
   ]
  },
  {
   "cell_type": "markdown",
   "metadata": {},
   "source": [
    "Ejercicio 21: Computadora con Teclado\n",
    "\n",
    "Crea una clase Teclado con el método escribir(). Luego, crea una clase Computadora que contenga un objeto de tipo Teclado y delegue la tarea de escribir al método escribir() del teclado.\n"
   ]
  },
  {
   "cell_type": "code",
   "execution_count": 17,
   "metadata": {},
   "outputs": [
    {
     "name": "stdout",
     "output_type": "stream",
     "text": [
      "bfdjfbsdfskjdhfakjakñd...\n"
     ]
    }
   ],
   "source": [
    "\n",
    "class Teclado:\n",
    "    def escribir(self):\n",
    "        return \"bfdjfbsdfskjdhfakjakñd...\"\n",
    "    \n",
    "class Computadora:\n",
    "    def __init__(self):\n",
    "        self.funcioncomputadora = Teclado()\n",
    "    def getfuncion(self):\n",
    "        return self.funcioncomputadora.escribir()\n",
    "\n",
    "micomputadora = Computadora()\n",
    "\n",
    "print(micomputadora.getfuncion())"
   ]
  },
  {
   "cell_type": "markdown",
   "metadata": {},
   "source": [
    "Ejercicio 22: Móvil con Cámara\n",
    "\n",
    "Crea una clase Camara con el método tomar_foto(). Luego, crea una clase Movil que tenga una cámara y delegue la tarea de tomar fotos al método tomar_foto() de la cámara.\n",
    "\n"
   ]
  },
  {
   "cell_type": "code",
   "execution_count": 18,
   "metadata": {},
   "outputs": [
    {
     "name": "stdout",
     "output_type": "stream",
     "text": [
      "clic-clac\n"
     ]
    }
   ],
   "source": [
    "class Camara:\n",
    "    def tomarFoto(self):\n",
    "        return \"clic-clac\"\n",
    "    \n",
    "class Movil:\n",
    "    def __init__(self):\n",
    "        self.CamMovil = Camara()\n",
    "    def tomarfoto(self):\n",
    "        return self.CamMovil.tomarFoto()\n",
    "\n",
    "motorola = Movil()\n",
    "\n",
    "print(motorola.tomarfoto())"
   ]
  },
  {
   "cell_type": "markdown",
   "metadata": {},
   "source": [
    "Ejercicio 23: Utilidades Matemáticas\n",
    "\n",
    "Crea una clase Calculadora que tenga métodos estáticos para sumar, restar, multiplicar y dividir dos números. Luego, usa estos métodos sin crear una instancia de la clase.\n"
   ]
  },
  {
   "cell_type": "code",
   "execution_count": null,
   "metadata": {},
   "outputs": [],
   "source": [
    "class Calculadora:\n",
    "    @classmethod\n",
    "    def sumar(self, a, b):\n",
    "        return a + b\n",
    "    @classmethod\n",
    "    def restar(self, a, b):\n",
    "        return a - b\n",
    "    @classmethod\n",
    "    def multiplicar(self, a, b):\n",
    "        return a * b\n",
    "    @classmethod\n",
    "    def dividir(self, a, b):\n",
    "        return a / b\n",
    "    \n",
    "print(calculadora.sumar(10, 5))        \n",
    "print(calculadora.restar(10, 5))       \n",
    "print(calculadora.multiplicar(10, 5))  \n",
    "print(calculadora.dividir(10, 5))   "
   ]
  },
  {
   "cell_type": "markdown",
   "metadata": {},
   "source": [
    "Ejercicios Integradores\n",
    "\n",
    "Ejercicio Integrador 1: Sistema de Transporte Urbano\n",
    "En este ejercicio, se simula un sistema de transporte urbano con diferentes tipos de vehículos y estaciones.\n",
    "\n",
    "Enunciado:\n",
    "Crea una clase abstracta Vehiculo con un método abstracto moverse() y un método estático distancia() que calcule la distancia entre dos puntos. Luego, implementa dos clases concretas Bus y Tren que extienden de Vehiculo, y cada una debe implementar el método moverse() de forma diferente.\n",
    "\n",
    "Además, crea una interfaz Estacionable con el método estacionar(), y asegúrate de que tanto Bus como Tren implementen esta interfaz.\n",
    "\n",
    "Finalmente, crea una clase Estacion que reciba un vehículo y delegue la tarea de estacionarlo.\n",
    "\n",
    "Requisitos:\n",
    "\n",
    "Utiliza clases abstractas e interfaces.\n",
    "Implementa métodos estáticos para el cálculo de la distancia.\n",
    "Usa delegación para la acción de estacionar un vehículo en una estación.\n"
   ]
  },
  {
   "cell_type": "code",
   "execution_count": 6,
   "metadata": {},
   "outputs": [
    {
     "name": "stdout",
     "output_type": "stream",
     "text": [
      "el bus se mueve\n",
      "bus estacionado\n",
      "el tren se mueve\n",
      "tren estacionado\n"
     ]
    }
   ],
   "source": [
    "from abc import ABC, abstractmethod\n",
    "\n",
    "class Vehiculo(ABC):\n",
    "    @classmethod\n",
    "    def distancia(xi, xf):\n",
    "        return xi - xf\n",
    "    \n",
    "    @abstractmethod\n",
    "    def moverse(self):\n",
    "        pass\n",
    "\n",
    "\n",
    "class Estacionable(ABC):\n",
    "    @abstractmethod\n",
    "    def estacionar(self):\n",
    "        pass\n",
    "\n",
    "class Bus(Vehiculo, Estacionable):\n",
    "    def __init__(self, inicio, fin):\n",
    "        self.xi = inicio\n",
    "        self.xf = fin\n",
    "\n",
    "    def moverse(self):\n",
    "        xi = self.xi\n",
    "        return \"Empezo a moverse a los {0} metros\" .format(xi)\n",
    "\n",
    "    def estacionar(self):\n",
    "        xf = self.xf\n",
    "        return \"se estaciono los {0} metros\" .format(xf)\n",
    "\n",
    "# class Tren(Vehiculo, Estacionable):\n",
    "#     def __init__(self):\n",
    "#         pass\n",
    "\n",
    "#     def moverse(self):\n",
    "#         return \n",
    "\n",
    "#     def estacionar(self):\n",
    "#         return \n",
    "\n",
    "class Estacion:\n",
    "    def __init__(self, vehiculo):\n",
    "        self.vehiculo = vehiculo\n",
    "        self.distancia = Vehiculo()\n",
    "\n",
    "    def estacionar_vehiculo(self):\n",
    "        xi = self.vehiculo.moverse #HACER QUE RESIBA VALORES XI Y XF Y DELEGAR\n",
    "        \n",
    "        return self.distancia.distancia(xi, xf)\n",
    "\n",
    "bus = Bus()\n",
    "# tren = Tren()\n",
    "\n",
    "\n",
    "\n"
   ]
  },
  {
   "cell_type": "markdown",
   "metadata": {},
   "source": [
    "Ejercicio Integrador 2: Sistema de Gestión de Personas\n",
    "En este ejercicio, se simula un sistema que gestiona diferentes tipos de empleados en una empresa.\n",
    "\n",
    "Enunciado:\n",
    "Crea una clase abstracta Persona con los atributos nombre y edad, y un método abstracto trabajar(). Luego, crea una clase Empleado que herede de Persona, con una subclase Gerente y otra subclase Ingeniero, donde cada una implemente el método trabajar() de forma distinta.\n",
    "\n",
    "Adicionalmente, crea una interfaz Responsabilidad que defina el método asignar_responsabilidad(), e implementa esta interfaz en las clases Gerente e Ingeniero.\n",
    "\n",
    "También, crea una clase Departamento que pueda contener una lista de empleados y delegue la tarea de asignar responsabilidades a sus miembros.\n",
    "\n",
    "Requisitos:\n",
    "\n",
    "Utiliza clases abstractas e interfaces.\n",
    "Implementa herencia para diferentes tipos de empleados.\n",
    "Usa delegación para gestionar las responsabilidades en el departamento."
   ]
  },
  {
   "cell_type": "code",
   "execution_count": 21,
   "metadata": {},
   "outputs": [],
   "source": [
    "from abc import ABC, abstractmethod\n",
    "class Persona(ABC):\n",
    "    @abstractmethod\n",
    "    def __init__(self, n , e):\n",
    "        self.nombre = n\n",
    "        self.edad = e\n",
    "    @abstractmethod\n",
    "    def trabajar(self):\n",
    "        pass\n",
    "    \n",
    "class Empleado(Persona):\n",
    "    def __init__(self, n , e):\n",
    "        self.nombre = n\n",
    "        self.edad = e\n",
    "\n",
    "class Responsabilidades(ABC):\n",
    "    @abstractmethod\n",
    "    def asignar_responsabilidad(self, tarea):\n",
    "        pass\n",
    "\n",
    "\n",
    "\n",
    "class Gerente(Responsabilidades, Empleado):\n",
    "    def trabajar(self):\n",
    "        return \"El gerente está supervisando\"\n",
    "    def asignar_responsabilidad(self, tarea):\n",
    "        print(f\"El gerente asigna la tarea {tarea} a un miembro del equipo.\")\n",
    "\n",
    "class Ingeniero(Responsabilidades, Empleado):\n",
    "    def trabajar(self):\n",
    "        return \"El ingeniero se la está ingeniendo\"\n",
    "    def asignar_responsabilidad(self, tarea):\n",
    "        print(f\"El gerente asigna la tarea {tarea} a un miembro del equipo.\")\n",
    "    \n",
    "class Departamento:\n",
    "    def __init__(self):\n",
    "        self.empleados = []\n",
    "\n",
    "    def agregar_empleado(self, empleado):\n",
    "        self.empleados.append(empleado)\n",
    "\n",
    "    def asignar_responsabilidad(self, empleado, tarea):\n",
    "        empleado.asignar_responsabilidad(tarea)\n",
    "    \n"
   ]
  },
  {
   "cell_type": "code",
   "execution_count": 22,
   "metadata": {},
   "outputs": [
    {
     "name": "stdout",
     "output_type": "stream",
     "text": [
      "El gerente asigna la tarea Planificar proyecto a un miembro del equipo.\n",
      "El gerente asigna la tarea Desarrollar módulo a un miembro del equipo.\n"
     ]
    }
   ],
   "source": [
    "# Crear empleados\n",
    "gerente1 = Gerente(\"Juan Pérez\", 35)\n",
    "ingeniero1 = Ingeniero(\"Ana López\", 30)\n",
    "\n",
    "# Crear departamento\n",
    "departamento = Departamento()\n",
    "departamento.agregar_empleado(gerente1)\n",
    "departamento.agregar_empleado(ingeniero1)\n",
    "\n",
    "# Asignar responsabilidades\n",
    "departamento.asignar_responsabilidad(gerente1, \"Planificar proyecto\")\n",
    "departamento.asignar_responsabilidad(ingeniero1, \"Desarrollar módulo\")"
   ]
  }
 ],
 "metadata": {
  "kernelspec": {
   "display_name": "Python 3",
   "language": "python",
   "name": "python3"
  },
  "language_info": {
   "codemirror_mode": {
    "name": "ipython",
    "version": 3
   },
   "file_extension": ".py",
   "mimetype": "text/x-python",
   "name": "python",
   "nbconvert_exporter": "python",
   "pygments_lexer": "ipython3",
   "version": "3.12.4"
  }
 },
 "nbformat": 4,
 "nbformat_minor": 2
}
