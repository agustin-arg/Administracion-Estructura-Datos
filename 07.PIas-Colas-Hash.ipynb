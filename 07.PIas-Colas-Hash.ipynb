{
 "cells": [
  {
   "cell_type": "markdown",
   "id": "d8f91905",
   "metadata": {},
   "source": [
    "# Práctica de Pilas, Colas y Tablas Hash"
   ]
  },
  {
   "cell_type": "code",
   "execution_count": 12,
   "id": "3e17c5a6",
   "metadata": {},
   "outputs": [],
   "source": [
    "class Pila:\n",
    "    def __init__ (self): \n",
    "        self._data = []\n",
    "\n",
    "    def len (self):\n",
    "        return len(self._data)\n",
    "\n",
    "    def empty(self):\n",
    "        if len(self._data) == 0:\n",
    "            return True\n",
    "\n",
    "    def push(self, e):\n",
    "        self._data.append(e)\n",
    "\n",
    "    def top(self):\n",
    "        if self.empty():\n",
    "            raise IndexError('Pila vacía')\n",
    "        return self._data[-1]\n",
    "\n",
    "    def pop(self):\n",
    "        if self.empty():\n",
    "            raise IndexError('Pila vacía')\n",
    "        return self._data.pop()"
   ]
  },
  {
   "cell_type": "code",
   "execution_count": 13,
   "id": "f1cae906",
   "metadata": {},
   "outputs": [],
   "source": [
    "def pop(self):\n",
    "    if self.empty():\n",
    "        raise IndexError('Pila vacía')\n",
    "    \n",
    "    # Obtener el último elemento\n",
    "    ultimo_elemento = self._data[-1]\n",
    "    \n",
    "    # Eliminar el último elemento de la lista\n",
    "    self._data = self._data[:-1]  # Cortamos la lista hasta el penúltimo elemento\n",
    "    \n",
    "    return ultimo_elemento"
   ]
  },
  {
   "cell_type": "code",
   "execution_count": 14,
   "id": "f3001584",
   "metadata": {},
   "outputs": [],
   "source": [
    "class Cola:\n",
    "    def __init__ (self): \n",
    "        self._data = []\n",
    "\n",
    "    def len (self):\n",
    "        return len(self._data)\n",
    "\n",
    "    def empty(self):\n",
    "        if len(self._data) == 0:\n",
    "            return True\n",
    "\n",
    "    def enqueue(self, e):\n",
    "        self._data.append(e)\n",
    "\n",
    "    def dequeue(self):\n",
    "        if self.empty():\n",
    "            raise IndexError('Cola vacía')\n",
    "        return self._data.pop(0)\n",
    "\n",
    "    def first(self):\n",
    "        if self.empty():\n",
    "            raise IndexError('Cola vacía')\n",
    "        return self._data[0]"
   ]
  },
  {
   "cell_type": "code",
   "execution_count": 15,
   "id": "6020e205",
   "metadata": {},
   "outputs": [],
   "source": [
    "class ColaDoble:\n",
    "    def __init__(self):\n",
    "        self._data = []\n",
    "\n",
    "    def len(self):\n",
    "        return len(self._data)\n",
    "\n",
    "    def empty(self):\n",
    "        return len(self._data) == 0\n",
    "\n",
    "    def add_first(self, e):\n",
    "        self._data.insert(0, e)\n",
    "\n",
    "    def add_last(self, e):\n",
    "        self._data.append(e)\n",
    "\n",
    "    def delete_first(self):\n",
    "        if self.empty():\n",
    "            raise IndexError(\"Cola vacía\")\n",
    "        return self._data.pop(0)\n",
    "    \n",
    "    def delete_last(self):\n",
    "        if self.empty():\n",
    "            raise IndexError(\"Cola vacía\")\n",
    "        return self._data.pop()\n",
    "\n",
    "    def first(self):\n",
    "        if self.empty():\n",
    "            raise IndexError(\"Cola vacía\")\n",
    "        return self._data[0]\n",
    "\n",
    "    def last(self):\n",
    "        if self.empty():\n",
    "            raise IndexError(\"Cola vacía\")\n",
    "        return self._data[-1]"
   ]
  },
  {
   "cell_type": "markdown",
   "id": "d199540a",
   "metadata": {},
   "source": [
    "# Ejercicio 1: Implementación Básica y Validación de Pila"
   ]
  },
  {
   "cell_type": "markdown",
   "id": "98d6dc13",
   "metadata": {},
   "source": [
    "\n",
    "**Objetivo:** Crear una instancia de la clase `Pila`, realizar algunas operaciones básicas (`push`, `top`, `pop`) y validar el comportamiento de los métodos.\n",
    "\n",
    "1. Crear una instancia de la clase `Pila`.\n",
    "2. Agregar tres elementos a la pila utilizando el método `push`.\n",
    "3. Imprimir el elemento en la parte superior de la pila usando el método `top`.\n",
    "4. Eliminar el elemento en la parte superior usando `pop` y mostrar el nuevo elemento en la parte superior.\n",
    "5. Repetir el proceso hasta vaciar la pila y manejar la excepción que indica que la pila está vacía."
   ]
  },
  {
   "cell_type": "code",
   "execution_count": 16,
   "id": "b12368ba",
   "metadata": {},
   "outputs": [
    {
     "name": "stdout",
     "output_type": "stream",
     "text": [
      "30\n",
      "20\n",
      "8\n",
      "8\n",
      "20\n"
     ]
    }
   ],
   "source": [
    "class Pila:\n",
    "    def __init__ (self):\n",
    "        self.__data=[]\n",
    "    def len (self):\n",
    "        return len(self.__data)\n",
    "    def empty (self):\n",
    "        if len(self.__data) == 0:\n",
    "            return True\n",
    "    def push (self,valor):\n",
    "        self.__data.append(valor)\n",
    "    def top (self):\n",
    "        return self.__data[-1]\n",
    "    def pop (self):\n",
    "        return self.__data.pop()\n",
    "    \n",
    "pila = Pila()\n",
    "pila.push(10)\n",
    "pila.push(20)\n",
    "pila.push(30)\n",
    "print(pila.top())\n",
    "pila.pop()\n",
    "print(pila.top())\n",
    "pila.push(8)\n",
    "print(pila.top())\n",
    "print(pila.pop())\n",
    "print(pila.top())"
   ]
  },
  {
   "cell_type": "markdown",
   "id": "8231dfb5",
   "metadata": {},
   "source": [
    "# Ejercicio 2: Validación de Expresiones con Paréntesis Usando una Pila"
   ]
  },
  {
   "cell_type": "markdown",
   "id": "991e5f47",
   "metadata": {},
   "source": [
    "\n",
    "**Objetivo:** Utilizar la clase `Pila` para verificar si una expresión matemática tiene los paréntesis balanceados.\n",
    "\n",
    "1. Crear una función `es_balanceada(expresion)` que tome como parámetro una cadena `expresion`.\n",
    "2. Usar una instancia de `Pila` para agregar un paréntesis de apertura cada vez que se encuentre uno en la expresión.\n",
    "3. Cuando se encuentre un paréntesis de cierre, verificar si la pila está vacía. Si lo está, la expresión no está balanceada.\n",
    "4. Si la pila no está vacía, eliminar un paréntesis de apertura de la pila.\n",
    "5. Al finalizar, si la pila está vacía, la expresión está balanceada; de lo contrario, no lo está."
   ]
  },
  {
   "cell_type": "code",
   "execution_count": 17,
   "id": "682575f8",
   "metadata": {},
   "outputs": [
    {
     "name": "stdout",
     "output_type": "stream",
     "text": [
      "True\n",
      "None\n",
      "False\n"
     ]
    }
   ],
   "source": [
    "def es_balanceada(expresion):\n",
    "    pila = Pila()\n",
    "    for char in expresion:\n",
    "        if char == \"(\":\n",
    "            pila.push(char)\n",
    "        elif char == \")\":\n",
    "            if pila.empty():\n",
    "                return False\n",
    "            pila.pop()\n",
    "    return pila.empty()\n",
    "print(es_balanceada(\"(a + b) * (c + d)\"))\n",
    "print(es_balanceada(\"((a + b) * (c + d)\"))\n",
    "print(es_balanceada(\"()()()()()()()()()()()())()()()()()()()\"))\n"
   ]
  },
  {
   "cell_type": "markdown",
   "id": "30d7bb53",
   "metadata": {},
   "source": [
    "# Ejercicio 3: Inversión de una Cadena Usando una Pila"
   ]
  },
  {
   "cell_type": "markdown",
   "id": "21f90f0f",
   "metadata": {},
   "source": [
    "\n",
    "**Objetivo:** Utilizar la clase `Pila` para invertir una cadena de texto ingresada.\n",
    "\n",
    "1. Crear una función `invertir_cadena(cadena)` que tome como parámetro una cadena de texto.\n",
    "2. Utilizar una instancia de `Pila` para almacenar cada carácter de la cadena.\n",
    "3. Extraer los caracteres de la pila uno por uno para formar la cadena invertida.\n",
    "4. La función debe retornar la cadena invertida.\n"
   ]
  },
  {
   "cell_type": "code",
   "execution_count": 18,
   "id": "e96d54cb",
   "metadata": {},
   "outputs": [
    {
     "name": "stdout",
     "output_type": "stream",
     "text": [
      "omtirogla\n"
     ]
    }
   ],
   "source": [
    "def invertir_cadena(cadena):\n",
    "    pila = Pila()\n",
    "    for char in cadena:\n",
    "        pila.push(char)\n",
    "    invertida = \"\"\n",
    "    while not pila.empty():\n",
    "        invertida += pila.pop()\n",
    "    return invertida\n",
    "print(invertir_cadena(\"algoritmo\"))"
   ]
  },
  {
   "cell_type": "markdown",
   "id": "13f03491",
   "metadata": {},
   "source": [
    "# Ejercicio 4: Implementación Básica y Validación de Cola"
   ]
  },
  {
   "cell_type": "markdown",
   "id": "9cfc0c7b",
   "metadata": {},
   "source": [
    "\n",
    "**Objetivo:** Crear una instancia de la clase `Cola`, realizar operaciones básicas (`enqueue`, `dequeue`, `first`) y validar el comportamiento de los métodos.\n",
    "\n",
    "1. Crear una instancia de la clase `Cola`.\n",
    "2. Agregar tres elementos a la cola utilizando el método `enqueue`.\n",
    "3. Mostrar el primer elemento de la cola usando el método `first`.\n",
    "4. Eliminar el primer elemento de la cola usando `dequeue` y muestra el nuevo primer elemento.\n",
    "5. Repetir el proceso hasta vaciar la cola, manejando la excepción que indica que la cola está vacía."
   ]
  },
  {
   "cell_type": "code",
   "execution_count": 19,
   "id": "62adb071",
   "metadata": {},
   "outputs": [
    {
     "name": "stdout",
     "output_type": "stream",
     "text": [
      "10\n",
      "10\n",
      "None\n"
     ]
    }
   ],
   "source": [
    "class Cola():\n",
    "    def __init__(self):\n",
    "        self.__datos=[]\n",
    "    def enqueue(self,dato):\n",
    "        self.__datos.append(dato)\n",
    "    def dequeue(self):\n",
    "        return self.__datos.pop()\n",
    "    def first(self):\n",
    "        return self.__datos[0]\n",
    "    def empty(self):\n",
    "        if len(self.__datos) == 0:\n",
    "         return True\n",
    "    \n",
    "cola = Cola()\n",
    "cola.enqueue(10)\n",
    "cola.enqueue(20)\n",
    "cola.enqueue(30)\n",
    "print(cola.first())\n",
    "cola.dequeue()\n",
    "print(cola.first())\n",
    "print(cola.empty())"
   ]
  },
  {
   "cell_type": "markdown",
   "id": "db21adf6",
   "metadata": {},
   "source": [
    "# Ejercicio 5: Simulación de Cola en un Sistema de Atención al Cliente"
   ]
  },
  {
   "cell_type": "markdown",
   "id": "a8febd49",
   "metadata": {},
   "source": [
    "\n",
    "**Objetivo:** Usar la clase `Cola` para simular la fila de espera en un sistema de atención al cliente.\n",
    "\n",
    "1. Crear una instancia de la clase `Cola`.\n",
    "2. Escribir una función `atender_cliente(nombre_cliente)` que agregue cada cliente a la cola usando `enqueue`.\n",
    "3. Escribir otra función `procesar_atencion()` que atienda a los clientes en orden, usando `dequeue` para retirar un cliente y mostrando el nombre del cliente que está siendo atendido.\n",
    "4. Simular la llegada de cinco clientes, cada uno con un nombre diferente, y procesa la atención hasta que la cola esté vacía."
   ]
  },
  {
   "cell_type": "code",
   "execution_count": 20,
   "id": "65fa9f77",
   "metadata": {},
   "outputs": [
    {
     "data": {
      "text/plain": [
       "['Cliente 3', 'Cliente 2', 'Cliente 1']"
      ]
     },
     "execution_count": 20,
     "metadata": {},
     "output_type": "execute_result"
    }
   ],
   "source": [
    "def atender_cliente(cliente):\n",
    "    orden.enqueue(cliente)\n",
    "\n",
    "def procesar_atencion():\n",
    "    atendidos =[]\n",
    "    while not orden.empty():\n",
    "        atendidos.append(orden.dequeue())\n",
    "    return atendidos\n",
    "orden = Cola()\n",
    "atender_cliente(\"Cliente 1\")\n",
    "atender_cliente(\"Cliente 2\")\n",
    "atender_cliente(\"Cliente 3\")\n",
    "procesar_atencion()  "
   ]
  },
  {
   "cell_type": "markdown",
   "id": "4ce98651",
   "metadata": {},
   "source": [
    "# Ejercicio 6: Sistema de Turnos con Prioridades usando Cola"
   ]
  },
  {
   "cell_type": "markdown",
   "id": "f5e4af62",
   "metadata": {},
   "source": [
    "\n",
    "**Objetivo:** Modificar la clase `Cola` para gestionar un sistema de turnos donde los clientes con prioridad alta son atendidos antes que los de prioridad baja.\n",
    "\n",
    "1. Crear una nueva clase llamada `ColaPrioritaria` que herede de `Cola`.\n",
    "2. Agregar un método `enqueue_prioritario(elemento, prioridad)` donde los elementos con prioridad alta se agreguen al frente de la cola.\n",
    "3. Escribir una función `procesar_atencion_prioritaria()` que atienda primero a los elementos de alta prioridad."
   ]
  },
  {
   "cell_type": "code",
   "execution_count": 22,
   "id": "d6899071",
   "metadata": {},
   "outputs": [
    {
     "ename": "IndentationError",
     "evalue": "expected an indented block after function definition on line 14 (3148854481.py, line 16)",
     "output_type": "error",
     "traceback": [
      "\u001b[1;36m  Cell \u001b[1;32mIn[22], line 16\u001b[1;36m\u001b[0m\n\u001b[1;33m    cola = ColaPrioritaria()\u001b[0m\n\u001b[1;37m    ^\u001b[0m\n\u001b[1;31mIndentationError\u001b[0m\u001b[1;31m:\u001b[0m expected an indented block after function definition on line 14\n"
     ]
    }
   ],
   "source": [
    "class ColaPrioritaria:\n",
    "    def __init__(self):\n",
    "        self.__prioridades = Cola()\n",
    "        self.__inferioridad = Cola()\n",
    "    def enqueue_prioritario(self, cliente, prioridad): #coloca cada 9896663\n",
    "        \n",
    "        if prioridad:\n",
    "            self.__prioridades.enqueue(cliente)\n",
    "        self.__inferioridad.enqueue(cliente)\n",
    "    def inferior(self):\n",
    "        return self.__inferioridad.empty\n",
    "    def prioridad(self):\n",
    "        return self.__prioridades\n",
    "\n",
    "def procesar_atencion_prioritaria(): #Deberia poner a la lista inferior y a la lista proridad en una sola\n",
    "    \n",
    "\n",
    "cola = ColaPrioritaria()\n",
    "cola.enqueue_prioritario(\"Cliente 1\", prioridad=False)\n",
    "cola.enqueue_prioritario(\"Cliente 2\", prioridad=True)\n",
    "procesar_atencion_prioritaria()"
   ]
  },
  {
   "cell_type": "markdown",
   "id": "58f9636c",
   "metadata": {},
   "source": [
    "# Ejercicio 7: Verificación de Palíndromos usando Pila y Cola"
   ]
  },
  {
   "cell_type": "markdown",
   "id": "4db565da",
   "metadata": {},
   "source": [
    "**Objetivo:** Utilizar una `Pila` y una `Cola` para verificar si una palabra es un palíndromo (se lee igual de izquierda a derecha que de derecha a izquierda).\n",
    "\n",
    "1. Crear una función `es_palindromo(palabra)` que tome como parámetro una cadena palabra.\n",
    "2. Usar una instancia de `Pila` para almacenar los caracteres de la palabra de izquierda a derecha.\n",
    "3. Usar una instancia de `Cola` para almacenar los caracteres de la palabra de derecha a izquierda.\n",
    "4. Comparar los caracteres extraídos de la `Pila` y la `Cola`. Si coinciden en todos los casos, la palabra es un palíndromo; de lo contrario, no lo es."
   ]
  },
  {
   "cell_type": "code",
   "execution_count": 12,
   "id": "3d4f3a7b",
   "metadata": {},
   "outputs": [
    {
     "name": "stdout",
     "output_type": "stream",
     "text": [
      "True\n"
     ]
    }
   ],
   "source": [
    "def es_palindromo(palabra):\n",
    "    pila = Pila()\n",
    "    cola = Cola()\n",
    "    for char in palabra:\n",
    "        pila.push(char)\n",
    "        cola.enqueue(char)\n",
    "    while not pila.empty():\n",
    "        if pila.pop() != cola.dequeue():\n",
    "            return False\n",
    "    return True\n",
    "print(es_palindromo(\"radar\"))"
   ]
  },
  {
   "cell_type": "markdown",
   "id": "cac7437d",
   "metadata": {},
   "source": [
    "# Ejercicio 8: Detección de Duplicados en una Lista Usando una Tabla Hash"
   ]
  },
  {
   "cell_type": "markdown",
   "id": "6e831bc4",
   "metadata": {},
   "source": [
    "**Objetivo:** Usar una tabla hash para identificar duplicados en una lista de números.\n",
    "\n",
    "1. Escribir una función `detectar_duplicados(lista)` que tome una lista de números como parámetro.\n",
    "2. Utilizar un `diccionario (tabla_hash)` para almacenar los números como claves y la cantidad de veces que aparecen como valores.\n",
    "3. Recorrer la lista y actualiza el conteo en la `tabla hash`. Si un número aparece más de una vez, debe agregarse a una lista de duplicados.\n",
    "4. La función debe retornar la lista de números duplicados."
   ]
  },
  {
   "cell_type": "code",
   "execution_count": 13,
   "id": "a329ff33",
   "metadata": {},
   "outputs": [
    {
     "name": "stdout",
     "output_type": "stream",
     "text": [
      "None\n"
     ]
    }
   ],
   "source": [
    "def detectar_duplicados(lista):\n",
    "    pass\n",
    "\n",
    "numeros = [1, 2, 3, 4, 5, 3, 6, 2, 7, 8, 1]\n",
    "print(detectar_duplicados(numeros))"
   ]
  },
  {
   "cell_type": "markdown",
   "id": "222f881f",
   "metadata": {},
   "source": [
    "# Ejercicio 9: Verificación de Contraseñas Almacenadas en una Tabla Hash"
   ]
  },
  {
   "cell_type": "markdown",
   "id": "11c9655a",
   "metadata": {},
   "source": [
    "**Objetivo:** Utilizar una tabla hash para almacenar y verificar contraseñas de usuarios de forma segura.\n",
    "\n",
    "1. Crear un `diccionario usuarios_contraseñas` donde las claves sean nombres de usuario y los valores sean las contraseñas almacenadas de manera simulada como valores encriptados (por ejemplo, agregando una sal y usando un hash básico).\n",
    "2. Escribir una función `registrar_usuario(nombre_usuario, contraseña)` que agregue una entrada en la tabla hash para un nuevo usuario, aplicando un método de \"hash\" simple a la contraseña (como hash(contraseña + \"sal\")).\n",
    "3. Escribir otra función `verificar_acceso(nombre_usuario, contraseña)` que tome un nombre de usuario y una contraseña como parámetros y verifique si coinciden con los valores en la tabla hash.\n",
    "4. La función `verificar_acceso` debe retornar True si el usuario y contraseña son correctos, y False en caso contrario."
   ]
  },
  {
   "cell_type": "code",
   "execution_count": 15,
   "id": "4f1536d2",
   "metadata": {},
   "outputs": [
    {
     "name": "stdout",
     "output_type": "stream",
     "text": [
      "None\n",
      "None\n"
     ]
    }
   ],
   "source": [
    "def registrar_usuario(user, password):\n",
    "    pass\n",
    "\n",
    "def verificar_acceso(user, password):\n",
    "    pass\n",
    "\n",
    "registrar_usuario(\"usuario1\", \"contraseña123\")\n",
    "registrar_usuario(\"usuario2\", \"mi_secreta\")\n",
    "\n",
    "print(verificar_acceso(\"usuario1\", \"contraseña123\"))\n",
    "print(verificar_acceso(\"usuario1\", \"mala_contraseña\"))"
   ]
  },
  {
   "cell_type": "markdown",
   "id": "57c4289b",
   "metadata": {},
   "source": [
    "# Ejercicio 10: Control de Acceso con Intentos Fallidos Usando una Tabla Hash"
   ]
  },
  {
   "cell_type": "markdown",
   "id": "9acbd5fd",
   "metadata": {},
   "source": [
    "**Objetivo:** Implementar un sistema de control de acceso que limite los intentos fallidos de inicio de sesión utilizando una tabla hash.\n",
    "\n",
    "1. Crear un `diccionario usuarios_contraseñas` donde las claves sean nombres de usuario y los valores sean contraseñas almacenadas (de manera simulada con un hash simple, como en el ejercicio anterior).\n",
    "2. Crear otro `diccionario intentos_fallidos` donde las claves sean nombres de usuario y los valores representen el número de intentos de acceso fallidos.\n",
    "3. Escribir una `función verificar_acceso(nombre_usuario, contraseña)` que verifique si la contraseña es correcta. En caso de ser incorrecta, incremente el contador en intentos_fallidos.\n",
    "4. Si un usuario tiene más de 3 intentos fallidos, bloquee el acceso y retorne \"Acceso bloqueado\".\n",
    "5. Si el acceso es exitoso, reinicia el contador de intentos fallidos."
   ]
  },
  {
   "cell_type": "code",
   "execution_count": 16,
   "id": "e8e62c7e",
   "metadata": {},
   "outputs": [
    {
     "name": "stdout",
     "output_type": "stream",
     "text": [
      "None\n",
      "None\n",
      "None\n",
      "None\n"
     ]
    }
   ],
   "source": [
    "def registrar_usuario(user, password):\n",
    "    pass\n",
    "\n",
    "def verificar_acceso(user, password):\n",
    "    pass\n",
    "\n",
    "registrar_usuario(\"usuario1\", \"contraseña123\")\n",
    "\n",
    "print(verificar_acceso(\"usuario1\", \"mala_contraseña\"))  # Debería retornar \"Contraseña incorrecta\"\n",
    "print(verificar_acceso(\"usuario1\", \"mala_contraseña\"))  # Debería retornar \"Contraseña incorrecta\"\n",
    "print(verificar_acceso(\"usuario1\", \"mala_contraseña\"))  # Debería retornar \"Acceso bloqueado\"\n",
    "print(verificar_acceso(\"usuario1\", \"contraseña123\"))    # Debería retornar \"Acceso bloqueado\"\n"
   ]
  },
  {
   "cell_type": "markdown",
   "id": "134538f7",
   "metadata": {},
   "source": [
    "# Ejercicio 11: Simulación de una Lista de Tareas Prioritarias usando Cola Doble"
   ]
  },
  {
   "cell_type": "markdown",
   "id": "3c8f4b8e",
   "metadata": {},
   "source": [
    "**Objetivo:** Utilizar la clase `ColaDoble` para gestionar una lista de tareas donde algunas deben tener prioridad y ser atendidas al principio, mientras que otras pueden ser añadidas al final.\n",
    "\n",
    "1. Crear una instancia de la clase `ColaDoble`.\n",
    "2. Escribir una función `agregar_tarea(tarea, prioridad)` que tome como parámetros una tarea (cadena de texto) y un valor de prioridad (True o False).\n",
    "3. Si la tarea tiene prioridad (True), se agrega al principio de la cola usando add_first.\n",
    "4. Si la tarea no tiene prioridad, se agrega al final de la cola usando add_last.\n",
    "5. Escribir otra función `procesar_tareas()` que atienda y elimine las tareas en el orden en que se encuentran en la cola doble, mostrando cada tarea mientras es procesada.\n",
    "6. Simular el agregado de cinco tareas, algunas con prioridad y otras sin prioridad, y procesa todas las tareas hasta que la cola esté vacía."
   ]
  },
  {
   "cell_type": "code",
   "execution_count": 19,
   "id": "0ef016bd",
   "metadata": {},
   "outputs": [],
   "source": [
    "def agregar_tarea(tarea, prioridad):\n",
    "    pass\n",
    "\n",
    "def procesar_tareas():\n",
    "    pass\n",
    "\n",
    "agregar_tarea(\"Tarea 1\", prioridad=False)\n",
    "agregar_tarea(\"Tarea 2\", prioridad=True)\n",
    "agregar_tarea(\"Tarea 3\", prioridad=False)\n",
    "agregar_tarea(\"Tarea 4\", prioridad=True)\n",
    "procesar_tareas()  # Debería atender primero las tareas con prioridad."
   ]
  },
  {
   "cell_type": "markdown",
   "id": "d53654b0",
   "metadata": {},
   "source": [
    "# Ejercicio 12: Implementación de un Historial de Navegación con Cola Doble"
   ]
  },
  {
   "cell_type": "markdown",
   "id": "2280afe7",
   "metadata": {},
   "source": [
    "**Objetivo:** Usar la clase `ColaDoble` para simular un historial de navegación web que permita ir hacia adelante y atrás entre las páginas visitadas.\n",
    "\n",
    "1. Crear una instancia de la clase `ColaDoble`.\n",
    "2. Escribir una función `navegar_a(url)` que reciba como parámetro una URL de página web y la agregue al final de la cola usando add_last.\n",
    "3. Escribir una función `retroceder()` que elimine la última URL visitada usando delete_last y la devuelva, simulando el retroceso en el historial de navegación.\n",
    "4. Escribir otra función `avanzar(url)` que agregue una URL al principio de la cola con add_first, simulando volver a una página visitada anteriormente.\n",
    "5. Probar navegando a cinco páginas diferentes y utilizando las funciones retroceder y avanzar para simular el movimiento entre páginas en el historial."
   ]
  },
  {
   "cell_type": "code",
   "execution_count": 20,
   "id": "62f8ea09",
   "metadata": {},
   "outputs": [],
   "source": [
    "def navegar_a(pagina):\n",
    "    pass\n",
    "\n",
    "def retroceder():\n",
    "    pass\n",
    "\n",
    "def avanzar(pagina):\n",
    "    pass\n",
    "\n",
    "navegar_a(\"pagina1.com\")\n",
    "navegar_a(\"pagina2.com\")\n",
    "retroceder()\n",
    "avanzar(\"pagina1.com\")"
   ]
  },
  {
   "cell_type": "markdown",
   "id": "c900b2a8",
   "metadata": {},
   "source": [
    "# Ejercicio 13: Gestión de Sesiones de Usuario con Pila, Cola y Tabla Hash"
   ]
  },
  {
   "cell_type": "markdown",
   "id": "664d763d",
   "metadata": {},
   "source": [
    "**Objetivo:** Usar una combinación de `pila`, `cola` y `tabla hash` para gestionar sesiones de usuario, incluyendo historial de accesos, usuarios en cola de espera y datos de perfil.\n",
    "\n",
    "1. Crear un `diccionario usuarios_perfil (tabla hash)` donde las claves sean nombres de usuario y los valores sean diccionarios con datos de perfil (por ejemplo, correo electrónico y rol).\n",
    "2. Usar una `Pila` para almacenar el historial de sesiones activas para cada usuario. Cada vez que un usuario inicie sesión, se añade a la pila.\n",
    "3. Utilizar una `Cola` para gestionar una lista de espera de usuarios que desean iniciar sesión pero deben esperar turno.\n",
    "4. Escribir una función `iniciar_sesion(nombre_usuario, datos_perfil)` que verifique si el usuario ya existe en usuarios_perfil. Si no existe, lo agregue con su datos_perfil.\n",
    "5. Agregar la sesión a la pila de historial y el usuario a la cola si hay otros en espera.\n",
    "6. Escribir otra función `cerrar_sesion(nombre_usuario)` que retire al usuario de la cola y quite su sesión de la pila de historial.\n",
    "7. Probar el sistema registrando tres usuarios, iniciando sesión en ellos y luego gestionando el cierre de sesión."
   ]
  },
  {
   "cell_type": "code",
   "execution_count": 22,
   "id": "ba0f15b6",
   "metadata": {},
   "outputs": [],
   "source": [
    "def iniciar_sesion(usuario, datos):\n",
    "    pass\n",
    "\n",
    "def cerrar_sesion(usuario):\n",
    "    pass\n",
    "\n",
    "iniciar_sesion(\"usuario1\", {\"correo\": \"user1@ejemplo.com\", \"rol\": \"admin\"})\n",
    "iniciar_sesion(\"usuario2\", {\"correo\": \"user2@ejemplo.com\", \"rol\": \"user\"})\n",
    "cerrar_sesion(\"usuario1\")"
   ]
  }
 ],
 "metadata": {
  "kernelspec": {
   "display_name": "Python 3",
   "language": "python",
   "name": "python3"
  },
  "language_info": {
   "codemirror_mode": {
    "name": "ipython",
    "version": 3
   },
   "file_extension": ".py",
   "mimetype": "text/x-python",
   "name": "python",
   "nbconvert_exporter": "python",
   "pygments_lexer": "ipython3",
   "version": "3.12.4"
  }
 },
 "nbformat": 4,
 "nbformat_minor": 5
}
