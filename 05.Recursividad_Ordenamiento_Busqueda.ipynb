{
 "cells": [
  {
   "cell_type": "markdown",
   "id": "65c9557e",
   "metadata": {},
   "source": [
    "### GUÍA DE EJERCICIOS\n",
    "## TEMAS: Recursividad, Métodos de Ordenamiento y Búsqueda."
   ]
  },
  {
   "cell_type": "markdown",
   "id": "e04e28ea",
   "metadata": {},
   "source": [
    "\n",
    "### Ejercicio 1: Factorial de un número (Recursividad)\n",
    "Completar la función `factorial(n)` que calcule el factorial de un número dado de forma recursiva.\n"
   ]
  },
  {
   "cell_type": "code",
   "execution_count": null,
   "id": "b569fe9f",
   "metadata": {},
   "outputs": [
    {
     "name": "stdout",
     "output_type": "stream",
     "text": [
      "120\n"
     ]
    }
   ],
   "source": [
    "\n",
    "def factorial(n):\n",
    "    if n == 1:\n",
    "     return 1\n",
    "    return n * factorial (n-1)\n",
    "print(factorial(5))  # Debería devolver 12\n"
   ]
  },
  {
   "cell_type": "markdown",
   "id": "fb76caa6",
   "metadata": {},
   "source": [
    "\n",
    "### Ejercicio 2: Suma de una lista de números (Recursividad)\n",
    "Implementar una función recursiva que sume todos los elementos de una lista."
   ]
  },
  {
   "cell_type": "code",
   "execution_count": 32,
   "id": "06347d58",
   "metadata": {},
   "outputs": [
    {
     "name": "stdout",
     "output_type": "stream",
     "text": [
      "10\n"
     ]
    }
   ],
   "source": [
    "def suma_lista(lista):\n",
    "    if not lista:\n",
    "        return 0\n",
    "    return lista[-1] + suma_lista(lista[:-1])\n",
    "\n",
    "print(suma_lista([1, 2, 3, 4]))  # Debería devolver 10"
   ]
  },
  {
   "cell_type": "markdown",
   "id": "b3a8d61d",
   "metadata": {},
   "source": [
    "\n",
    "### Ejercicio 3: Serie de Fibonacci (Recursividad)\n",
    "Completar la función `fibonacci(n)` para obtener el enésimo número de la serie de Fibonacci."
   ]
  },
  {
   "cell_type": "code",
   "execution_count": 33,
   "id": "2a457a6c",
   "metadata": {},
   "outputs": [
    {
     "name": "stdout",
     "output_type": "stream",
     "text": [
      "144\n"
     ]
    }
   ],
   "source": [
    "\n",
    "def fibonacci(n):\n",
    "    if n <=1:\n",
    "        return n\n",
    "    return fibonacci(n-2)+ fibonacci(n-1)\n",
    "print(fibonacci(12))  # Debería devolver 8"
   ]
  },
  {
   "cell_type": "markdown",
   "id": "07d336ea",
   "metadata": {},
   "source": [
    "\n",
    "### Ejercicio 4: Búsqueda binaria recursiva\n",
    "Completar la implementación de la búsqueda binaria en una lista ordenada.\n"
   ]
  },
  {
   "cell_type": "code",
   "execution_count": 34,
   "id": "dad16e19",
   "metadata": {},
   "outputs": [
    {
     "name": "stdout",
     "output_type": "stream",
     "text": [
      "3\n"
     ]
    }
   ],
   "source": [
    "\n",
    "def busqueda_binaria(lista, buscar, inicio, fin):\n",
    "    # Completar el código aquí\n",
    "    centro= (inicio + fin)//2\n",
    "    if inicio > fin:\n",
    "        return-1\n",
    "    elif lista[centro]== buscar:\n",
    "        return centro\n",
    "    elif inicio < centro:\n",
    "        return busqueda_binaria(lista, 7,centro +1, fin)\n",
    "    else:\n",
    "        return busqueda_binaria(lista, 7,inicio, centro -1) \n",
    "\n",
    "\n",
    "lista = [1, 3, 5, 7, 9]\n",
    "print(busqueda_binaria(lista, 7, 0, len(lista)-1))  # Debería devolver 3"
   ]
  },
  {
   "cell_type": "markdown",
   "id": "76099855",
   "metadata": {},
   "source": [
    "\n",
    "### Ejercicio 5: Potencia de un número (Recursividad)\n",
    "Implementar una función recursiva que calcule la potencia de un número `a^b`."
   ]
  },
  {
   "cell_type": "code",
   "execution_count": 35,
   "id": "f0b41b42",
   "metadata": {},
   "outputs": [
    {
     "name": "stdout",
     "output_type": "stream",
     "text": [
      "8\n"
     ]
    }
   ],
   "source": [
    "def potencia(a, b):\n",
    "    if b==1:\n",
    "        return a\n",
    "    \n",
    "    return a*(potencia (a, b-1))\n",
    "\n",
    "print(potencia(2, 3))  # Debería devolver 8"
   ]
  },
  {
   "cell_type": "markdown",
   "id": "325b8c69",
   "metadata": {},
   "source": [
    "### Ejercicio 6: Número de caminos en una cuadrícula (Recursividad)\n",
    "Implementar una función que calcule de forma recursiva cuántos caminos posibles existen desde la esquina superior izquierda hasta la esquina inferior derecha de una cuadrícula de `m x n`. Solo puedes moverte hacia la derecha o hacia abajo."
   ]
  },
  {
   "cell_type": "code",
   "execution_count": 36,
   "id": "4b6f0c7b",
   "metadata": {},
   "outputs": [
    {
     "name": "stdout",
     "output_type": "stream",
     "text": [
      "2\n"
     ]
    }
   ],
   "source": [
    "def num_caminos(m, n):\n",
    "    # Completar el código aquí\n",
    "    if n==1 or m == 1:\n",
    "        return 1\n",
    "    return (num_caminos(m, n-1)+ num_caminos(m-1, n))\n",
    "\n",
    "print(num_caminos(2, 2))  # Debería devolver 2"
   ]
  },
  {
   "cell_type": "markdown",
   "id": "b5ed4c48",
   "metadata": {},
   "source": [
    "### Ejercicio 7: Invertir una cadena (Recursividad)\n",
    "Completa una función recursiva que invierta una cadena de texto."
   ]
  },
  {
   "cell_type": "code",
   "execution_count": 37,
   "id": "f4fb8546",
   "metadata": {},
   "outputs": [
    {
     "name": "stdout",
     "output_type": "stream",
     "text": [
      "dadivisrucer\n"
     ]
    }
   ],
   "source": [
    "def invertir_cadena(cadena):\n",
    "    # Completar el código aquí\n",
    "    if cadena == cadena[0]:\n",
    "        return cadena\n",
    "    return (cadena[-1]+invertir_cadena(cadena[:-1]))\n",
    "\n",
    "\n",
    "print(invertir_cadena(\"recursividad\"))  # Debería devolver \"dadivisrucer\""
   ]
  },
  {
   "cell_type": "markdown",
   "id": "6691e61f",
   "metadata": {},
   "source": [
    "### Ejercicio 8: Torres de Hanói (Recursividad)\n",
    "Completa el código para resolver el problema de las Torres de Hanói. Debes mover todos los discos de la torre de origen a la torre destino, utilizando la torre auxiliar."
   ]
  },
  {
   "cell_type": "code",
   "execution_count": 38,
   "id": "f6b1c329",
   "metadata": {},
   "outputs": [
    {
     "name": "stdout",
     "output_type": "stream",
     "text": [
      "A->C\n",
      "A->B\n",
      "A->C\n",
      "B->C\n",
      "A->B\n",
      "A->C\n",
      "A->B\n",
      "A->C\n",
      "B->C\n",
      "B->C\n"
     ]
    }
   ],
   "source": [
    "def torres_de_hanoi(n, origen, destino, auxiliar):\n",
    "    # Completar el código aquí\n",
    "    if n == 1:\n",
    "     print (\"A->C\")\n",
    "    else:\n",
    "        torres_de_hanoi(n-1, 'A', 'C', 'B')\n",
    "        print (\"A->B\")\n",
    "        torres_de_hanoi(n-1, 'A', 'C', 'B')\n",
    "        print (\"B->C\")\n",
    "        \n",
    "\n",
    "torres_de_hanoi(3, 'A', 'C', 'B')  # Debería mostrar los movimientos necesarios"
   ]
  },
  {
   "cell_type": "markdown",
   "id": "8049e46b",
   "metadata": {},
   "source": [
    "### Ejercicio 9: Contar ocurrencias de un número en una lista (Recursividad)\n",
    "Escribir una función recursiva que cuente cuántas veces aparece un número en un array."
   ]
  },
  {
   "cell_type": "code",
   "execution_count": 39,
   "id": "7c5332d1",
   "metadata": {},
   "outputs": [
    {
     "name": "stdout",
     "output_type": "stream",
     "text": [
      "3\n"
     ]
    }
   ],
   "source": [
    "def contar_ocurrencias(lista, numero):\n",
    "    # Completar el código aquí\n",
    "    if not lista:\n",
    "        return 0\n",
    "    elif lista [0] == numero:\n",
    "        return (contar_ocurrencias(lista[1:], numero)) + 1\n",
    "    else:\n",
    "        return (contar_ocurrencias(lista[1:], numero))\n",
    "    \n",
    "        \n",
    "        \n",
    "\n",
    "print(contar_ocurrencias([1, 2, 3, 2, 2, 4], 2))  # Debería devolver 3"
   ]
  },
  {
   "cell_type": "markdown",
   "id": "1742f8bf",
   "metadata": {},
   "source": [
    "### Ejercicio 10: Sumar dígitos de un número (Recursividad)\n",
    "Implementar una función que sume los dígitos de un número de manera recursiva."
   ]
  },
  {
   "cell_type": "code",
   "execution_count": 40,
   "id": "6c026e55",
   "metadata": {},
   "outputs": [
    {
     "name": "stdout",
     "output_type": "stream",
     "text": [
      "10\n"
     ]
    }
   ],
   "source": [
    "def sumar_digitos(n):\n",
    "    # Completar el código aquí\n",
    "    if n//10 == 0:\n",
    "        return n\n",
    "    return n%10 + (sumar_digitos(n//10))\n",
    "\n",
    "print(sumar_digitos(1234))  # Debería devolver 10"
   ]
  },
  {
   "cell_type": "markdown",
   "id": "e32916b1",
   "metadata": {},
   "source": [
    "### Ejercicio 11: Ordenamiento por selección\n",
    "Completar la implementación del algoritmo de ordenamiento por selección."
   ]
  },
  {
   "cell_type": "code",
   "execution_count": 41,
   "id": "4fcf364f",
   "metadata": {},
   "outputs": [
    {
     "name": "stdout",
     "output_type": "stream",
     "text": [
      "[11, 22, 12, 25, 64]\n"
     ]
    }
   ],
   "source": [
    "def ordenamiento_seleccion(arr):\n",
    "    # Completar el código aquí\n",
    "    for j in range(0,len(arr)):\n",
    "        menor = j\n",
    "        for i in range(j+1,len(arr)):\n",
    "            if arr[j]>arr[i]:\n",
    "                menor = i\n",
    "        arr[j],arr[menor]=arr[menor],arr[j]\n",
    "    return arr\n",
    "\n",
    "arr = [64, 25, 12, 22, 11]\n",
    "print(ordenamiento_seleccion(arr)) # Debería devolver [11, 12, 22, 25, 64]"
   ]
  },
  {
   "cell_type": "code",
   "execution_count": 42,
   "id": "03c93fc6",
   "metadata": {},
   "outputs": [
    {
     "ename": "IndexError",
     "evalue": "list index out of range",
     "output_type": "error",
     "traceback": [
      "\u001b[1;31m---------------------------------------------------------------------------\u001b[0m",
      "\u001b[1;31mIndexError\u001b[0m                                Traceback (most recent call last)",
      "Cell \u001b[1;32mIn[42], line 11\u001b[0m\n\u001b[0;32m      8\u001b[0m         (ordenamiento_seleccion(arr[\u001b[38;5;241m1\u001b[39m:]))\n\u001b[0;32m     10\u001b[0m arr \u001b[38;5;241m=\u001b[39m [\u001b[38;5;241m64\u001b[39m, \u001b[38;5;241m25\u001b[39m, \u001b[38;5;241m12\u001b[39m, \u001b[38;5;241m22\u001b[39m, \u001b[38;5;241m11\u001b[39m]\n\u001b[1;32m---> 11\u001b[0m \u001b[38;5;28mprint\u001b[39m(\u001b[43mordenamiento_seleccion\u001b[49m\u001b[43m(\u001b[49m\u001b[43marr\u001b[49m\u001b[43m)\u001b[49m) \u001b[38;5;66;03m# Debería devolver [11, 12, 22, 25, 64]\u001b[39;00m\n",
      "Cell \u001b[1;32mIn[42], line 6\u001b[0m, in \u001b[0;36mordenamiento_seleccion\u001b[1;34m(arr)\u001b[0m\n\u001b[0;32m      4\u001b[0m     \u001b[38;5;28;01mreturn\u001b[39;00m arr\n\u001b[0;32m      5\u001b[0m \u001b[38;5;28;01melif\u001b[39;00m arr[\u001b[38;5;241m0\u001b[39m] \u001b[38;5;241m>\u001b[39m arr[\u001b[38;5;241m1\u001b[39m]:\n\u001b[1;32m----> 6\u001b[0m     \u001b[38;5;28;01mreturn\u001b[39;00m arr [\u001b[38;5;241m1\u001b[39m] \u001b[38;5;241m+\u001b[39m arr [\u001b[38;5;241m0\u001b[39m] \u001b[38;5;241m+\u001b[39m (\u001b[43mordenamiento_seleccion\u001b[49m\u001b[43m(\u001b[49m\u001b[43marr\u001b[49m\u001b[43m[\u001b[49m\u001b[38;5;241;43m2\u001b[39;49m\u001b[43m:\u001b[49m\u001b[43m]\u001b[49m\u001b[43m)\u001b[49m)\n\u001b[0;32m      7\u001b[0m \u001b[38;5;28;01melse\u001b[39;00m:\n\u001b[0;32m      8\u001b[0m     (ordenamiento_seleccion(arr[\u001b[38;5;241m1\u001b[39m:]))\n",
      "Cell \u001b[1;32mIn[42], line 8\u001b[0m, in \u001b[0;36mordenamiento_seleccion\u001b[1;34m(arr)\u001b[0m\n\u001b[0;32m      6\u001b[0m     \u001b[38;5;28;01mreturn\u001b[39;00m arr [\u001b[38;5;241m1\u001b[39m] \u001b[38;5;241m+\u001b[39m arr [\u001b[38;5;241m0\u001b[39m] \u001b[38;5;241m+\u001b[39m (ordenamiento_seleccion(arr[\u001b[38;5;241m2\u001b[39m:]))\n\u001b[0;32m      7\u001b[0m \u001b[38;5;28;01melse\u001b[39;00m:\n\u001b[1;32m----> 8\u001b[0m     (\u001b[43mordenamiento_seleccion\u001b[49m\u001b[43m(\u001b[49m\u001b[43marr\u001b[49m\u001b[43m[\u001b[49m\u001b[38;5;241;43m1\u001b[39;49m\u001b[43m:\u001b[49m\u001b[43m]\u001b[49m\u001b[43m)\u001b[49m)\n",
      "Cell \u001b[1;32mIn[42], line 6\u001b[0m, in \u001b[0;36mordenamiento_seleccion\u001b[1;34m(arr)\u001b[0m\n\u001b[0;32m      4\u001b[0m     \u001b[38;5;28;01mreturn\u001b[39;00m arr\n\u001b[0;32m      5\u001b[0m \u001b[38;5;28;01melif\u001b[39;00m arr[\u001b[38;5;241m0\u001b[39m] \u001b[38;5;241m>\u001b[39m arr[\u001b[38;5;241m1\u001b[39m]:\n\u001b[1;32m----> 6\u001b[0m     \u001b[38;5;28;01mreturn\u001b[39;00m arr [\u001b[38;5;241m1\u001b[39m] \u001b[38;5;241m+\u001b[39m arr [\u001b[38;5;241m0\u001b[39m] \u001b[38;5;241m+\u001b[39m (\u001b[43mordenamiento_seleccion\u001b[49m\u001b[43m(\u001b[49m\u001b[43marr\u001b[49m\u001b[43m[\u001b[49m\u001b[38;5;241;43m2\u001b[39;49m\u001b[43m:\u001b[49m\u001b[43m]\u001b[49m\u001b[43m)\u001b[49m)\n\u001b[0;32m      7\u001b[0m \u001b[38;5;28;01melse\u001b[39;00m:\n\u001b[0;32m      8\u001b[0m     (ordenamiento_seleccion(arr[\u001b[38;5;241m1\u001b[39m:]))\n",
      "Cell \u001b[1;32mIn[42], line 3\u001b[0m, in \u001b[0;36mordenamiento_seleccion\u001b[1;34m(arr)\u001b[0m\n\u001b[0;32m      1\u001b[0m \u001b[38;5;28;01mdef\u001b[39;00m \u001b[38;5;21mordenamiento_seleccion\u001b[39m(arr):\n\u001b[0;32m      2\u001b[0m     \u001b[38;5;66;03m# Completar el código aquí\u001b[39;00m\n\u001b[1;32m----> 3\u001b[0m     \u001b[38;5;28;01mif\u001b[39;00m arr \u001b[38;5;241m==\u001b[39m \u001b[43marr\u001b[49m\u001b[43m[\u001b[49m\u001b[38;5;241;43m0\u001b[39;49m\u001b[43m]\u001b[49m:\n\u001b[0;32m      4\u001b[0m         \u001b[38;5;28;01mreturn\u001b[39;00m arr\n\u001b[0;32m      5\u001b[0m     \u001b[38;5;28;01melif\u001b[39;00m arr[\u001b[38;5;241m0\u001b[39m] \u001b[38;5;241m>\u001b[39m arr[\u001b[38;5;241m1\u001b[39m]:\n",
      "\u001b[1;31mIndexError\u001b[0m: list index out of range"
     ]
    }
   ],
   "source": [
    "def ordenamiento_seleccion(arr):\n",
    "    # Completar el código aquí\n",
    "    if arr == arr[0]:\n",
    "        return arr\n",
    "    elif arr[0] > arr[1]:\n",
    "        return arr [1] + arr [0] + (ordenamiento_seleccion(arr[2:]))\n",
    "    else:\n",
    "        (ordenamiento_seleccion(arr[1:]))\n",
    "\n",
    "arr = [64, 25, 12, 22, 11]\n",
    "print(ordenamiento_seleccion(arr)) # Debería devolver [11, 12, 22, 25, 64]"
   ]
  },
  {
   "cell_type": "markdown",
   "id": "70527847",
   "metadata": {},
   "source": [
    "### Ejercicio 12: Ordenamiento Burbuja\n",
    "Completar el código del algoritmo de ordenamiento burbuja."
   ]
  },
  {
   "cell_type": "code",
   "execution_count": 34,
   "id": "15d6c7a2",
   "metadata": {},
   "outputs": [
    {
     "name": "stdout",
     "output_type": "stream",
     "text": [
      "[11, 12, 22, 25, 34, 64, 90]\n"
     ]
    }
   ],
   "source": [
    "def ordenamiento_burbuja(arr):\n",
    "    # Completar el código aquí\n",
    "    n=len(arr)\n",
    "    for j in range(n):\n",
    "        for i in range(n-1):\n",
    "            if arr[i]>arr[i+1]:\n",
    "                arr[i],arr[i+1]= arr[i+1],arr[i]\n",
    "    \n",
    "    return arr\n",
    "    \n",
    "arr = [64, 34, 25, 12, 22, 11, 90]\n",
    "print(ordenamiento_burbuja(arr)) # Debería devolver [11, 12, 22, 25, 34, 64, 90]"
   ]
  },
  {
   "cell_type": "code",
   "execution_count": 27,
   "id": "4850a495",
   "metadata": {},
   "outputs": [
    {
     "name": "stdout",
     "output_type": "stream",
     "text": [
      "[34, 25, 12, 22, 11, 64, 90]\n"
     ]
    }
   ],
   "source": [
    "def ordenamiento_burbuja(arr):\n",
    "    # Completar el código aquí\n",
    "    n=len(arr)\n",
    "    if n == 1:\n",
    "        return \n",
    "    else:\n",
    "        for i in range(n-1):\n",
    "            if arr[i]>arr[i+1]:\n",
    "                arr[i],arr[i+1]= arr[i+1],arr[i]\n",
    "        ordenamiento_burbuja(arr[:-1])\n",
    "    return arr\n",
    "    \n",
    "arr = [64, 34, 25, 12, 22, 11, 90]\n",
    "print(ordenamiento_burbuja(arr)) # Debería devolver [11, 12, 22, 25, 34, 64, 90]"
   ]
  },
  {
   "cell_type": "code",
   "execution_count": 28,
   "id": "cb1b9447",
   "metadata": {},
   "outputs": [
    {
     "name": "stdout",
     "output_type": "stream",
     "text": [
      "[34, 25, 12, 22, 11, 64, 90]\n"
     ]
    }
   ],
   "source": [
    "def ordenamiento_burbuja(arr):\n",
    "    n = len(arr)\n",
    "    if n == 1:\n",
    "        return arr\n",
    "    else:\n",
    "        for i in range(n - 1):\n",
    "            if arr[i] > arr[i + 1]:\n",
    "                arr[i], arr[i + 1] = arr[i + 1], arr[i]\n",
    "        # Llamar recursivamente sin crear una nueva lista\n",
    "        ordenamiento_burbuja(arr[:-1])\n",
    "    return arr\n",
    "\n",
    "arr = [64, 34, 25, 12, 22, 11, 90]\n",
    "print(ordenamiento_burbuja(arr))\n"
   ]
  },
  {
   "cell_type": "markdown",
   "id": "c479b065",
   "metadata": {},
   "source": [
    "### Ejercicio 13: Ordenamiento por Inserción\n",
    "Completar la porción de código faltante en el algoritmo de ordenamiento por inserción."
   ]
  },
  {
   "cell_type": "code",
   "execution_count": 20,
   "id": "e9c8087b",
   "metadata": {},
   "outputs": [
    {
     "name": "stdout",
     "output_type": "stream",
     "text": [
      "[5, 6, 11, 12, 13]\n"
     ]
    }
   ],
   "source": [
    "def ordenamiento_insercion(arr):\n",
    "    for i in range(1, len(arr)):\n",
    "        temp = arr[i]\n",
    "        # Usar un for para moverse hacia atrás\n",
    "        for j in range(i - 1, -1, -1):\n",
    "            if arr[j] > temp:\n",
    "                arr[j + 1] = arr[j]\n",
    "                if j == 0:\n",
    "                    arr[j] = temp\n",
    "            else:\n",
    "                arr[j + 1] = temp\n",
    "                break\n",
    "    return arr\n",
    "\n",
    "arr = [12, 11, 13, 5, 6]\n",
    "print(ordenamiento_insercion(arr))  # Debería devolver [5, 6, 11, 12, 13]"
   ]
  },
  {
   "cell_type": "code",
   "execution_count": 14,
   "id": "6d466117",
   "metadata": {},
   "outputs": [
    {
     "name": "stdout",
     "output_type": "stream",
     "text": [
      "[5, 6, 11, 12, 13]\n"
     ]
    }
   ],
   "source": [
    "#es mas recomendado hacerlo con un while\n",
    "def ordenamiento_insercion(arr):\n",
    "    # Completar el código aquí\n",
    "    for i in range(1,len(arr)):\n",
    "        j=i-1\n",
    "        clave = arr[i] \n",
    "        while j >= 0 and clave < arr[j]:\n",
    "            arr[j + 1] = arr[j]\n",
    "            j -= 1\n",
    "\n",
    "        arr[j + 1] = clave\n",
    "    return arr\n",
    "            \n",
    "\n",
    "arr = [12, 11, 13, 5, 6]\n",
    "print(ordenamiento_insercion(arr))  # Debería devolver [5, 6, 11, 12, 13]"
   ]
  },
  {
   "cell_type": "markdown",
   "id": "2cb041c1",
   "metadata": {},
   "source": [
    "### Ejercicio 14: Ordenamiento Rápido (Quicksort)\n",
    "Completar la implementación del algoritmo de ordenamiento rápido (Quicksort)."
   ]
  },
  {
   "cell_type": "code",
   "execution_count": 24,
   "id": "8b745d6e",
   "metadata": {},
   "outputs": [
    {
     "name": "stdout",
     "output_type": "stream",
     "text": [
      "[1, 5, 7, 8, 9, 10]\n"
     ]
    }
   ],
   "source": [
    "def quicksort(arr):\n",
    "    # Completar el código aquí\n",
    "    if len(arr)<1:\n",
    "        return []\n",
    "    pivote= arr[0]\n",
    "    izquierda=[]\n",
    "    derecha=[]\n",
    "    for i in range(1,len(arr)):\n",
    "        if pivote > arr[i]:\n",
    "            izquierda.append(arr[i])\n",
    "        else:\n",
    "            derecha.append(arr[i])\n",
    "    return quicksort(izquierda) + [pivote] + quicksort(derecha)\n",
    "        \n",
    "arr = [10, 7, 8, 9, 1, 5]\n",
    "print(quicksort(arr))  # Debería devolver [1, 5, 7, 8, 9, 10]"
   ]
  },
  {
   "cell_type": "markdown",
   "id": "78f1d054",
   "metadata": {},
   "source": [
    "### Ejercicio 15: Ordenamiento por Mezcla (Merge Sort)\n",
    "Completar la función merge_sort(arr) que realice el ordenamiento por mezcla."
   ]
  },
  {
   "cell_type": "code",
   "execution_count": 9,
   "id": "2e435b45",
   "metadata": {},
   "outputs": [
    {
     "name": "stdout",
     "output_type": "stream",
     "text": [
      "None\n"
     ]
    }
   ],
   "source": [
    "def merge_sort(arr):\n",
    "    # Completar el código aquí\n",
    "    pass\n",
    "\n",
    "arr = [12, 11, 13, 5, 6, 7]\n",
    "print(merge_sort(arr)) # Debería devolver [5, 6, 7, 11, 12, 13]"
   ]
  },
  {
   "cell_type": "markdown",
   "id": "fb94641f",
   "metadata": {},
   "source": [
    "### Ejercicio 16: Comparación entre Burbuja y Selección\n",
    "Completar el código que mida el tiempo de ejecución de los algoritmos de burbuja y selección, y los compare."
   ]
  },
  {
   "cell_type": "code",
   "execution_count": 10,
   "id": "30ad99a1",
   "metadata": {},
   "outputs": [
    {
     "name": "stdout",
     "output_type": "stream",
     "text": [
      "None\n"
     ]
    }
   ],
   "source": [
    "import time\n",
    "\n",
    "def comparar_algoritmos(arr):\n",
    "    # Completar el código aquí\n",
    "    pass\n",
    "\n",
    "arr = [64, 25, 12, 22, 11]\n",
    "print(comparar_algoritmos(arr))"
   ]
  },
  {
   "cell_type": "code",
   "execution_count": 26,
   "id": "c1a747e2",
   "metadata": {},
   "outputs": [
    {
     "name": "stdout",
     "output_type": "stream",
     "text": [
      "{'Tiempo Burbuja': 0.0, 'Tiempo Selección': 0.0}\n"
     ]
    }
   ],
   "source": [
    "import time\n",
    "\n",
    "def burbuja(arr):\n",
    "    n = len(arr)\n",
    "    for i in range(n):\n",
    "        for j in range(0, n-i-1):\n",
    "            if arr[j] > arr[j+1]:\n",
    "                arr[j], arr[j+1] = arr[j+1], arr[j]\n",
    "\n",
    "def seleccion(arr):\n",
    "    n = len(arr)\n",
    "    for i in range(n):\n",
    "        min_idx = i\n",
    "        for j in range(i+1, n):\n",
    "            if arr[j] < arr[min_idx]:\n",
    "                min_idx = j\n",
    "        arr[i], arr[min_idx] = arr[min_idx], arr[i]\n",
    "\n",
    "def comparar_algoritmos(arr):\n",
    "    # Copiar el arreglo para evitar modificar el original\n",
    "    arr_burbuja = arr.copy()\n",
    "    arr_seleccion = arr.copy()\n",
    "    \n",
    "    # Medir el tiempo para el algoritmo de burbuja\n",
    "    inicio_burbuja = time.time()\n",
    "    burbuja(arr_burbuja)\n",
    "    fin_burbuja = time.time()\n",
    "    tiempo_burbuja = fin_burbuja - inicio_burbuja\n",
    "    \n",
    "    # Medir el tiempo para el algoritmo de selección\n",
    "    inicio_seleccion = time.time()\n",
    "    seleccion(arr_seleccion)\n",
    "    fin_seleccion = time.time()\n",
    "    tiempo_seleccion = fin_seleccion - inicio_seleccion\n",
    "    \n",
    "    # Comparar y devolver los tiempos\n",
    "    return {\n",
    "        'Tiempo Burbuja': tiempo_burbuja,\n",
    "        'Tiempo Selección': tiempo_seleccion\n",
    "    }\n",
    "\n",
    "arr = [64, 25, 12, 22, 11]\n",
    "print(comparar_algoritmos(arr))\n"
   ]
  },
  {
   "cell_type": "markdown",
   "id": "d16cb6c6",
   "metadata": {},
   "source": [
    "### Ejercicio 17: Ordenar una Lista de Cadenas por Longitud\n",
    "Implementar el ordenamiento de una lista de cadenas en función de la longitud de las cadenas."
   ]
  },
  {
   "cell_type": "code",
   "execution_count": 35,
   "id": "0bc58726",
   "metadata": {},
   "outputs": [
    {
     "name": "stdout",
     "output_type": "stream",
     "text": [
      "['w', 'uno', 'dos', 'tres', 'cinco', 'cuatro']\n"
     ]
    }
   ],
   "source": [
    "def ordenar_por_longitud(arr):\n",
    "    # Completar el código aquí\n",
    "    if len(arr) <= 1:\n",
    "        return arr\n",
    "    pivote = len(arr[0])\n",
    "    izquierda = []\n",
    "    derecha = []\n",
    "    for i in range (1,len(arr)):\n",
    "        if pivote > len(arr[i]):\n",
    "            izquierda.append(arr[i])\n",
    "        else:\n",
    "            derecha.append(arr[i])\n",
    "    return ordenar_por_longitud(izquierda) + [arr[0]] + ordenar_por_longitud(derecha)\n",
    "arr = [\"uno\",\"cinco\", \"dos\", \"tres\", \"cuatro\",\"w\"]\n",
    "print(ordenar_por_longitud(arr)) # Debería devolver ['w', 'uno', 'dos', 'tres', 'cinco', 'cuatro']"
   ]
  },
  {
   "cell_type": "markdown",
   "id": "d7ef80a4",
   "metadata": {},
   "source": [
    "### Ejercicio 18: Búsqueda Secuencial en una Lista\n",
    "Completar la función que busque un elemento en una lista no ordenada usando búsqueda secuencial."
   ]
  },
  {
   "cell_type": "code",
   "execution_count": 39,
   "id": "b0fb5bc1",
   "metadata": {},
   "outputs": [
    {
     "name": "stdout",
     "output_type": "stream",
     "text": [
      "2\n"
     ]
    }
   ],
   "source": [
    "#como me lo plantee \n",
    "def busqueda_secuencial(lista, buscar):\n",
    "    # Completar el código aquí\n",
    "    i = 0\n",
    "    j = -1\n",
    "    while i < len(lista):\n",
    "        if lista[i] == buscar:\n",
    "            i = len(lista)\n",
    "            j += 1\n",
    "        else:\n",
    "            i += 1\n",
    "            j += 1\n",
    "    return j\n",
    "        \n",
    "\n",
    "lista = [10, 20, 30, 40, 50]\n",
    "print(busqueda_secuencial(lista, 30))  # Debería devolver 2"
   ]
  },
  {
   "cell_type": "code",
   "execution_count": null,
   "id": "af23ccfb",
   "metadata": {},
   "outputs": [],
   "source": [
    "#opción mas eficiente\n",
    "def busqueda_secuencial(lista, buscar):\n",
    "    # Recorrer la lista buscando el elemento\n",
    "    for i in range(len(lista)):\n",
    "        if lista[i] == buscar:\n",
    "            return i  # Retorna el índice si se encuentra el elemento\n",
    "    return -1  # Retorna -1 si el elemento no está en la lista\n",
    "\n",
    "lista = [10, 20, 30, 40, 50]\n",
    "print(busqueda_secuencial(lista, 30))  # Debería devolver 2"
   ]
  },
  {
   "cell_type": "markdown",
   "id": "c715c87a",
   "metadata": {},
   "source": [
    "### Ejercicio 19: Búsqueda Binaria en una Lista Ordenada\n",
    "Completar el código para realizar una búsqueda binaria en una lista ordenada."
   ]
  },
  {
   "cell_type": "code",
   "execution_count": null,
   "id": "15d141c0",
   "metadata": {},
   "outputs": [],
   "source": [
    "def busqueda_binaria(lista, buscar):\n",
    "    # Completar el código aquí\n",
    "    \n",
    "    m=len(lista)//2\n",
    "    i=0\n",
    "    j=len(lista)-1\n",
    "    while j > i and buscar != arr[m]:\n",
    "        if arr[m] < buscar:\n",
    "            i=m\n",
    "            m=(j-i)//2\n",
    "        else:\n",
    "            j=m\n",
    "            m=(j-i)//2\n",
    "    if arr[m]== buscar or arr==buscar:\n",
    "        return m\n",
    "    else:\n",
    "        \"no se encontro\"\n",
    "lista = [10, 20, 30, 40, 50]\n",
    "print(busqueda_binaria(lista, 40))  # Debería devolver 3"
   ]
  },
  {
   "cell_type": "code",
   "execution_count": null,
   "id": "7e4f77f2",
   "metadata": {},
   "outputs": [],
   "source": [
    "def busqueda_binaria(lista, buscar):\n",
    "    # Definir los límites iniciales\n",
    "    i = 0\n",
    "    j = len(lista) - 1\n",
    "    \n",
    "    # Bucle para realizar la búsqueda binaria\n",
    "    while i <= j:\n",
    "        # Calcular el punto medio\n",
    "        m = (i + j) // 2\n",
    "        \n",
    "        # Verificar si el elemento en la posición media es el buscado\n",
    "        if lista[m] == buscar:\n",
    "            return m\n",
    "        # Si el elemento en la posición media es menor, buscar en la mitad derecha\n",
    "        elif lista[m] < buscar:\n",
    "            i = m + 1\n",
    "        # Si el elemento en la posición media es mayor, buscar en la mitad izquierda\n",
    "        else:\n",
    "            j = m - 1\n",
    "    \n",
    "    # Si no se encontró el elemento, devolver -1\n",
    "    return -1\n",
    "\n",
    "lista = [10, 20, 30, 40, 50]\n",
    "print(busqueda_binaria(lista, 40))  # Debería devolver 3\n"
   ]
  },
  {
   "cell_type": "markdown",
   "id": "3e7bf57c",
   "metadata": {},
   "source": [
    "### Ejercicio 20: Búsqueda de Máximo y Mínimo en una Lista\n",
    "Completar la función para que encuentre el número máximo y mínimo en una lista."
   ]
  },
  {
   "cell_type": "code",
   "execution_count": 48,
   "id": "d34852ac",
   "metadata": {},
   "outputs": [
    {
     "name": "stdout",
     "output_type": "stream",
     "text": [
      "Mínimo:1, Máximo:9\n"
     ]
    }
   ],
   "source": [
    "def max_min_lista(arr):\n",
    "    # Completar el código aquí\n",
    "    max=arr[0]\n",
    "    min=arr[0]\n",
    "    for i in range (1,len(arr)):\n",
    "        if arr[i] < min:\n",
    "            min=arr[i]\n",
    "        elif arr[i] > max:\n",
    "            max=arr[i]\n",
    "        else:\n",
    "            continue\n",
    "    return (f\"Mínimo:{min}, Máximo:{max}\")\n",
    "# Prueba tu código\n",
    "arr = [3, 1, 4, 1, 5, 9, 2, 6, 5]\n",
    "print(max_min_lista(arr))  # Debería devolver Mínimo: 1, Máximo: 9"
   ]
  },
  {
   "cell_type": "code",
   "execution_count": 49,
   "id": "0f4f9cb9",
   "metadata": {},
   "outputs": [
    {
     "name": "stdout",
     "output_type": "stream",
     "text": [
      "Mínimo: 1, Máximo: 9\n"
     ]
    }
   ],
   "source": [
    "def max_min_lista(arr):\n",
    "    # Usar las funciones min() y max() para encontrar los valores\n",
    "    minimo = min(arr)\n",
    "    maximo = max(arr)\n",
    "    return f\"Mínimo: {minimo}, Máximo: {maximo}\"\n",
    "\n",
    "# Prueba del código\n",
    "arr = [3, 1, 4, 1, 5, 9, 2, 6, 5]\n",
    "print(max_min_lista(arr))  # Debería devolver Mínimo: 1, Máximo: 9\n"
   ]
  },
  {
   "cell_type": "markdown",
   "id": "643fa069",
   "metadata": {},
   "source": [
    "### Implementar los ejercicios brindados con Programación Orientada a Objetos (POO). \n",
    "Se debe agrupar los ejercicios en clases según su funcionalidad donde cada clase representará un tipo de operación (recursividad, ordenamiento, búsqueda), y los métodos representarán las funciones que ejecutan las distintas acciones."
   ]
  },
  {
   "cell_type": "code",
   "execution_count": null,
   "id": "cb304e30",
   "metadata": {},
   "outputs": [],
   "source": [
    "class Recursividad:\n",
    "    def __init__(self):\n",
    "        pass\n",
    "    \n",
    "    def factorial(self, n):\n",
    "        if n == 1:\n",
    "            return 1\n",
    "        return n * self.factorial(n - 1)\n",
    "\n",
    "    def suma_lista(self, lista):\n",
    "        if not lista:\n",
    "            return 0\n",
    "        return lista[-1] + self.suma_lista(lista[:-1])\n",
    "\n",
    "    def fibonacci(self, n):\n",
    "        if n <= 1:\n",
    "            return n\n",
    "        return self.fibonacci(n - 2) + self.fibonacci(n - 1)\n",
    "\n",
    "    def busqueda_binaria(self, lista, buscar, inicio, fin):\n",
    "        if inicio > fin:\n",
    "            return -1\n",
    "        centro = (inicio + fin) // 2\n",
    "        if lista[centro] == buscar:\n",
    "            return centro\n",
    "        elif lista[centro] < buscar:\n",
    "            return self.busqueda_binaria(lista, buscar, centro + 1, fin)\n",
    "        else:\n",
    "            return self.busqueda_binaria(lista, buscar, inicio, centro - 1)\n",
    "\n",
    "    def potencia(self, a, b):\n",
    "        if b == 0:\n",
    "            return 1\n",
    "        return a * self.potencia(a, b - 1)\n",
    "\n",
    "    def num_caminos(self, m, n):\n",
    "        if m == 1 or n == 1:\n",
    "            return 1\n",
    "        return self.num_caminos(m - 1, n) + self.num_caminos(m, n - 1)\n",
    "\n",
    "    def invertir_cadena(self, cadena):\n",
    "        if len(cadena) == 0:\n",
    "            return cadena\n",
    "        return self.invertir_cadena(cadena[1:]) + cadena[0]\n",
    "\n",
    "    def torres_de_hanoi(self, n, origen, destino, auxiliar):\n",
    "        if n == 1:\n",
    "            print(f\"Mover disco 1 de {origen} a {destino}\")\n",
    "            return\n",
    "        self.torres_de_hanoi(n - 1, origen, auxiliar, destino)\n",
    "        print(f\"Mover disco {n} de {origen} a {destino}\")\n",
    "        self.torres_de_hanoi(n - 1, auxiliar, destino, origen)\n",
    "\n",
    "    def contar_ocurrencias(self, lista, numero):\n",
    "        if not lista:\n",
    "            return 0\n",
    "        return (1 if lista[0] == numero else 0) + self.contar_ocurrencias(lista[1:], numero)\n",
    "\n",
    "    def sumar_digitos(self, n):\n",
    "        if n == 0:\n",
    "            return 0\n",
    "        return n % 10 + self.sumar_digitos(n // 10)\n"
   ]
  },
  {
   "cell_type": "code",
   "execution_count": 4,
   "id": "32194d4f",
   "metadata": {},
   "outputs": [],
   "source": [
    "class Ordenamiento:\n",
    "    def __init__(self):\n",
    "        pass\n",
    "    \n",
    "    def ordenamiento_seleccion(self, arr):\n",
    "        # Implementación de ordenamiento por selección\n",
    "        n = len(arr)\n",
    "        for i in range(n):\n",
    "            min_idx = i\n",
    "            for j in range(i + 1, n):\n",
    "                if arr[j] < arr[min_idx]:\n",
    "                    min_idx = j\n",
    "            arr[i], arr[min_idx] = arr[min_idx], arr[i]\n",
    "        return arr\n",
    "    \n",
    "    def ordenamiento_burbuja(self, arr):\n",
    "        # Implementación de ordenamiento burbuja\n",
    "        n = len(arr)\n",
    "        for i in range(n):\n",
    "            for j in range(0, n - i - 1):\n",
    "                if arr[j] > arr[j + 1]:\n",
    "                    arr[j], arr[j + 1] = arr[j + 1], arr[j]\n",
    "        return arr\n",
    "    \n",
    "    def ordenamiento_insercion(self, arr):\n",
    "        # Implementación de ordenamiento por inserción\n",
    "        for i in range(1, len(arr)):\n",
    "            key = arr[i]\n",
    "            j = i - 1\n",
    "            while j >= 0 and key < arr[j]:\n",
    "                arr[j + 1] = arr[j]\n",
    "                j -= 1\n",
    "            arr[j + 1] = key\n",
    "        return arr\n",
    "    \n",
    "    def quicksort(self, arr):\n",
    "        # Implementación de Quicksort\n",
    "        if len(arr)<1:\n",
    "            return []\n",
    "        pivote= arr[0]\n",
    "        izquierda=[]\n",
    "        derecha=[]\n",
    "        for i in range(1,len(arr)):\n",
    "            if pivote > arr[i]:\n",
    "                izquierda.append(arr[i])\n",
    "            else:\n",
    "                derecha.append(arr[i])\n",
    "        return quicksort(izquierda) + [pivote] + quicksort(derecha)\n",
    "    \n",
    "    def merge_sort(self, arr):\n",
    "        # Implementación de Merge Sort\n",
    "        if len(arr) <= 1:\n",
    "            return arr\n",
    "        mid = len(arr) // 2\n",
    "        left = self.merge_sort(arr[:mid])\n",
    "        right = self.merge_sort(arr[mid:])\n",
    "        return self._merge(left, right)\n",
    "    \n",
    "    def _merge(self, left, right):\n",
    "        result = []\n",
    "        i = j = 0\n",
    "        while i < len(left) and j < len(right):\n",
    "            if left[i] < right[j]:\n",
    "                result.append(left[i])\n",
    "                i += 1\n",
    "            else:\n",
    "                result.append(right[j])\n",
    "                j += 1\n",
    "        result.extend(left[i:])\n",
    "        result.extend(right[j:])\n",
    "        return result\n",
    "    \n",
    "    def comparar_algoritmos(self, arr):\n",
    "        # Comparación de tiempo de ordenamiento entre burbuja y selección\n",
    "        import time\n",
    "        arr_copia1 = arr[:]\n",
    "        arr_copia2 = arr[:]\n",
    "        \n",
    "        start_time = time.time()\n",
    "        self.ordenamiento_burbuja(arr_copia1)\n",
    "        tiempo_burbuja = time.time() - start_time\n",
    "        \n",
    "        start_time = time.time()\n",
    "        self.ordenamiento_seleccion(arr_copia2)\n",
    "        tiempo_seleccion = time.time() - start_time\n",
    "        \n",
    "        return f\"Burbuja: {tiempo_burbuja} segundos, Selección: {tiempo_seleccion} segundos\"\n",
    "    \n",
    "    def ordenar_por_longitud(self, arr):\n",
    "        # Implementación de ordenamiento por longitud de cadenas\n",
    "        return sorted(arr, key=len)\n",
    "\n"
   ]
  },
  {
   "cell_type": "code",
   "execution_count": 3,
   "id": "e8fd3bae",
   "metadata": {},
   "outputs": [],
   "source": [
    "class Busqueda:\n",
    "    def __init__(self):\n",
    "        pass\n",
    "    \n",
    "    def busqueda_secuencial(self, lista, buscar):\n",
    "        for i in range(len(lista)):\n",
    "            if lista[i] == buscar:\n",
    "                return i\n",
    "        return -1\n",
    "    \n",
    "    def busqueda_binaria(self, lista, buscar):\n",
    "        izquierda, derecha = 0, len(lista) - 1\n",
    "        while izquierda <= derecha:\n",
    "            medio = (izquierda + derecha) // 2\n",
    "            if lista[medio] == buscar:\n",
    "                return medio\n",
    "            elif lista[medio] < buscar:\n",
    "                izquierda = medio + 1\n",
    "            else:\n",
    "                derecha = medio - 1\n",
    "        return -1\n",
    "    \n",
    "    def max_min_lista(self, arr):\n",
    "        maximo = max(arr)\n",
    "        minimo = min(arr)\n",
    "        return maximo, minimo\n"
   ]
  },
  {
   "cell_type": "markdown",
   "id": "5fe689d7",
   "metadata": {},
   "source": [
    "### Ejemplo de uso"
   ]
  },
  {
   "cell_type": "code",
   "execution_count": 43,
   "id": "a7e26d72",
   "metadata": {},
   "outputs": [
    {
     "ename": "NameError",
     "evalue": "name 'Recursividad' is not defined",
     "output_type": "error",
     "traceback": [
      "\u001b[1;31m---------------------------------------------------------------------------\u001b[0m",
      "\u001b[1;31mNameError\u001b[0m                                 Traceback (most recent call last)",
      "Cell \u001b[1;32mIn[43], line 1\u001b[0m\n\u001b[1;32m----> 1\u001b[0m recursividad \u001b[38;5;241m=\u001b[39m \u001b[43mRecursividad\u001b[49m()\n\u001b[0;32m      2\u001b[0m \u001b[38;5;28mprint\u001b[39m(recursividad\u001b[38;5;241m.\u001b[39mfactorial(\u001b[38;5;241m5\u001b[39m))  \u001b[38;5;66;03m# Debería devolver 120\u001b[39;00m\n\u001b[0;32m      4\u001b[0m orden \u001b[38;5;241m=\u001b[39m Ordenamiento()\n",
      "\u001b[1;31mNameError\u001b[0m: name 'Recursividad' is not defined"
     ]
    }
   ],
   "source": [
    "recursividad = Recursividad()\n",
    "print(recursividad.factorial(5))  # Debería devolver 120\n",
    "\n",
    "orden = Ordenamiento()\n",
    "lista = [64, 25, 12, 22, 11]\n",
    "orden.ordenamiento_seleccion(lista)\n",
    "print(lista)  # Debería devolver [11, 12, 22, 25, 64]\n",
    "\n",
    "busqueda = Busqueda()\n",
    "lista = [10, 20, 30, 40, 50]\n",
    "print(busqueda.busqueda_binaria(lista, 40))  # Debería devolver 3"
   ]
  },
  {
   "cell_type": "markdown",
   "id": "a78b761b",
   "metadata": {},
   "source": [
    "### Determinar el nivel de complejidad computacional de cada método implementado representándolo visualmente.\n",
    "Analizar el número de operaciones que realiza cada método en función del tamaño de los datos de entrada. El análisis de la complejidad temporal se expresa comúnmente utilizando la notación Big-O, que describe cómo el tiempo de ejecución crece a medida que crece el tamaño de la entrada."
   ]
  },
  {
   "cell_type": "code",
   "execution_count": 1,
   "id": "9137cdae",
   "metadata": {},
   "outputs": [
    {
     "ename": "NameError",
     "evalue": "name 'ordenamiento_seleccion' is not defined",
     "output_type": "error",
     "traceback": [
      "\u001b[1;31m---------------------------------------------------------------------------\u001b[0m",
      "\u001b[1;31mNameError\u001b[0m                                 Traceback (most recent call last)",
      "Cell \u001b[1;32mIn[1], line 16\u001b[0m\n\u001b[0;32m     13\u001b[0m arr \u001b[38;5;241m=\u001b[39m \u001b[38;5;28mlist\u001b[39m(\u001b[38;5;28mrange\u001b[39m(\u001b[38;5;241m10000\u001b[39m))\n\u001b[0;32m     15\u001b[0m \u001b[38;5;66;03m# Medir el tiempo de ordenamiento por selección\u001b[39;00m\n\u001b[1;32m---> 16\u001b[0m tiempo_seleccion \u001b[38;5;241m=\u001b[39m medir_tiempo(\u001b[43mordenamiento_seleccion\u001b[49m, arr\u001b[38;5;241m.\u001b[39mcopy())\n\u001b[0;32m     18\u001b[0m \u001b[38;5;66;03m# Medir el tiempo de ordenamiento burbuja\u001b[39;00m\n\u001b[0;32m     19\u001b[0m tiempo_burbuja \u001b[38;5;241m=\u001b[39m medir_tiempo(ordenamiento_burbuja, arr\u001b[38;5;241m.\u001b[39mcopy())\n",
      "\u001b[1;31mNameError\u001b[0m: name 'ordenamiento_seleccion' is not defined"
     ]
    }
   ],
   "source": [
    "# Ejemplo\n",
    "import time\n",
    "import matplotlib.pyplot as plt\n",
    "\n",
    "# Función para medir el tiempo de ejecución\n",
    "def medir_tiempo(func, *args):\n",
    "    inicio = time.time()\n",
    "    func(*args)\n",
    "    fin = time.time()\n",
    "    return fin - inicio\n",
    "\n",
    "# Prueba con una lista grande\n",
    "arr = list(range(10000))\n",
    "\n",
    "# Medir el tiempo de ordenamiento por selección\n",
    "tiempo_seleccion = medir_tiempo(ordenamiento_seleccion, arr.copy())\n",
    "\n",
    "# Medir el tiempo de ordenamiento burbuja\n",
    "tiempo_burbuja = medir_tiempo(ordenamiento_burbuja, arr.copy())\n",
    "\n",
    "# Visualización\n",
    "plt.bar([\"Seleccion\", \"Burbuja\"], [tiempo_seleccion, tiempo_burbuja])\n",
    "plt.ylabel(\"Tiempo (segundos)\")\n",
    "plt.show()"
   ]
  }
 ],
 "metadata": {
  "kernelspec": {
   "display_name": "Python 3",
   "language": "python",
   "name": "python3"
  },
  "language_info": {
   "codemirror_mode": {
    "name": "ipython",
    "version": 3
   },
   "file_extension": ".py",
   "mimetype": "text/x-python",
   "name": "python",
   "nbconvert_exporter": "python",
   "pygments_lexer": "ipython3",
   "version": "3.12.4"
  }
 },
 "nbformat": 4,
 "nbformat_minor": 5
}
